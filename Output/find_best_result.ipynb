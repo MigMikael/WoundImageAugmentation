{
 "cells": [
  {
   "cell_type": "code",
   "execution_count": 1,
   "metadata": {},
   "outputs": [
    {
     "name": "stdout",
     "output_type": "stream",
     "text": [
      "175\n",
      "result-set-16-Wed Jan 17 07:18:25 2018.txt\n",
      "123\n",
      "result-set-5-Tue Jan 16 19:44:55 2018.txt\n",
      "135\n",
      "result-set-8-Tue Jan 16 22:55:10 2018.txt\n",
      "255\n",
      "\n"
     ]
    }
   ],
   "source": [
    "import os\n",
    "\n",
    "result_path = \"./output_exp_11/\"\n",
    "\n",
    "min_diff_R = 255\n",
    "min_diff_G = 255\n",
    "min_diff_B = 255\n",
    "\n",
    "min_diff_overall = 255\n",
    "\n",
    "name1 = \"\"\n",
    "name2 = \"\"\n",
    "name3 = \"\"\n",
    "name4 = \"\"\n",
    "\n",
    "for filename in os.listdir(result_path):\n",
    "    if filename.endswith(\".txt\"):\n",
    "        with open(result_path + filename, 'r') as resultFile:\n",
    "            for line in resultFile:\n",
    "                if \"max Label-Predict diff (R G B) : \" in line:\n",
    "                    line = line.replace(\"max Label-Predict diff (R G B) : \", \"\")\n",
    "                    line = line.replace(\"\\n\", \"\")\n",
    "                    diff_RGB_list = line.split(\" \")\n",
    "\n",
    "                    diff_R = float(diff_RGB_list[0])\n",
    "                    diff_R = int(diff_R)\n",
    "\n",
    "                    diff_G = float(diff_RGB_list[1])\n",
    "                    diff_G = int(diff_G)\n",
    "\n",
    "                    diff_B = float(diff_RGB_list[2])\n",
    "                    diff_B = int(diff_B)\n",
    "\n",
    "                    if(diff_R < min_diff_R):\n",
    "                        min_diff_R = diff_R\n",
    "                        name1 = filename\n",
    "\n",
    "                    if(diff_G < min_diff_G):\n",
    "                        min_diff_G = diff_G\n",
    "                        name2 = filename\n",
    "\n",
    "                    if(diff_B < min_diff_B):\n",
    "                        min_diff_B = diff_B\n",
    "                        name3 = filename\n",
    "                        \n",
    "                    sum_diff = diff_R + diff_G + diff_B\n",
    "                    if(sum_diff < min_diff_overall):\n",
    "                        min_diff_overall = sum_diff\n",
    "                        name4 = filename\n",
    "\n",
    "print(min_diff_R)\n",
    "print(name1)\n",
    "\n",
    "print(min_diff_G)\n",
    "print(name2)\n",
    "\n",
    "print(min_diff_B)\n",
    "print(name3)\n",
    "\n",
    "print(min_diff_overall)\n",
    "print(name4)"
   ]
  },
  {
   "cell_type": "code",
   "execution_count": null,
   "metadata": {
    "collapsed": true
   },
   "outputs": [],
   "source": []
  }
 ],
 "metadata": {
  "kernelspec": {
   "display_name": "Python 3",
   "language": "python",
   "name": "python3"
  },
  "language_info": {
   "codemirror_mode": {
    "name": "ipython",
    "version": 3
   },
   "file_extension": ".py",
   "mimetype": "text/x-python",
   "name": "python",
   "nbconvert_exporter": "python",
   "pygments_lexer": "ipython3",
   "version": "3.6.3"
  }
 },
 "nbformat": 4,
 "nbformat_minor": 2
}
