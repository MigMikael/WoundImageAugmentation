{
 "cells": [
  {
   "cell_type": "code",
   "execution_count": 6,
   "metadata": {
    "collapsed": true
   },
   "outputs": [],
   "source": [
    "from IPython.display import HTML, display"
   ]
  },
  {
   "cell_type": "code",
   "execution_count": 7,
   "metadata": {},
   "outputs": [
    {
     "data": {
      "text/html": [
       "<table><tr><td>Galaxy S8+<img src='./example_image/Arm(S8+)_resize.jpg'></td><td>P' Nan<img src='./example_image/iPad_s8_augmented_img/Arm(S8+)_resize_Nannnnn.jpg'></td><td>iPad Mini 4<img src='./example_image/Arm(iPad)_resize.jpg'></td></tr></table>"
      ],
      "text/plain": [
       "<IPython.core.display.HTML object>"
      ]
     },
     "metadata": {},
     "output_type": "display_data"
    },
    {
     "data": {
      "text/html": [
       "<table><tr><td>Galaxy S8+<img src='./example_image/Arm(S8+)_resize.jpg'></td><td>Mine<img src='./example_image/iPad_s8_augmented_img/Arm(S8+)_resize_Edited_By_exp-27_model-15(Avg).jpg'></td><td>iPad Mini 4<img src='./example_image/Arm(iPad)_resize.jpg'></td></tr></table>"
      ],
      "text/plain": [
       "<IPython.core.display.HTML object>"
      ]
     },
     "metadata": {},
     "output_type": "display_data"
    }
   ],
   "source": [
    "feature_img = \"./example_image/Arm(S8+)_resize.jpg\"\n",
    "label_img = \"./example_image/Arm(iPad)_resize.jpg\"\n",
    "nan_img = \"./example_image/iPad_s8_augmented_img/Arm(S8+)_resize_Nannnnn.jpg\"\n",
    "my_own_img = \"./example_image/iPad_s8_augmented_img/Arm(S8+)_resize_Edited_By_exp-27_model-15(Avg).jpg\"\n",
    "\n",
    "display(HTML(\"<table><tr><td>Galaxy S8+<img src='\"+ feature_img +\"'></td><td>P' Nan<img src='\"+ nan_img +\"'></td><td>iPad Mini 4<img src='\"+ label_img +\"'></td></tr></table>\"))\n",
    "display(HTML(\"<table><tr><td>Galaxy S8+<img src='\"+ feature_img +\"'></td><td>Mine<img src='\"+ my_own_img +\"'></td><td>iPad Mini 4<img src='\"+ label_img +\"'></td></tr></table>\"))"
   ]
  },
  {
   "cell_type": "code",
   "execution_count": 8,
   "metadata": {},
   "outputs": [
    {
     "data": {
      "text/html": [
       "<table><tr><td>Galaxy S8+<img src='./example_image/TheTwo(S8+)_resize.jpg'></td><td>P' Nan<img src='./example_image/iPad_s8_augmented_img/TheTwo(S8+)_resize_Nannnnn.jpg'></td><td>iPad Mini 4<img src='./example_image/TheTwo(iPad)_resize.jpg'></td></tr></table>"
      ],
      "text/plain": [
       "<IPython.core.display.HTML object>"
      ]
     },
     "metadata": {},
     "output_type": "display_data"
    },
    {
     "data": {
      "text/html": [
       "<table><tr><td>Galaxy S8+<img src='./example_image/TheTwo(S8+)_resize.jpg'></td><td>Mine<img src='./example_image/iPad_s8_augmented_img/TheTwo(S8+)_resize_Edited_By_exp-27_model-15(Avg).jpg'></td><td>iPad Mini 4<img src='./example_image/TheTwo(iPad)_resize.jpg'></td></tr></table>"
      ],
      "text/plain": [
       "<IPython.core.display.HTML object>"
      ]
     },
     "metadata": {},
     "output_type": "display_data"
    }
   ],
   "source": [
    "feature_img = \"./example_image/TheTwo(S8+)_resize.jpg\"\n",
    "label_img = \"./example_image/TheTwo(iPad)_resize.jpg\"\n",
    "nan_img = \"./example_image/iPad_s8_augmented_img/TheTwo(S8+)_resize_Nannnnn.jpg\"\n",
    "my_own_img = \"./example_image/iPad_s8_augmented_img/TheTwo(S8+)_resize_Edited_By_exp-27_model-15(Avg).jpg\"\n",
    "\n",
    "display(HTML(\"<table><tr><td>Galaxy S8+<img src='\"+ feature_img +\"'></td><td>P' Nan<img src='\"+ nan_img +\"'></td><td>iPad Mini 4<img src='\"+ label_img +\"'></td></tr></table>\"))\n",
    "display(HTML(\"<table><tr><td>Galaxy S8+<img src='\"+ feature_img +\"'></td><td>Mine<img src='\"+ my_own_img +\"'></td><td>iPad Mini 4<img src='\"+ label_img +\"'></td></tr></table>\"))"
   ]
  },
  {
   "cell_type": "code",
   "execution_count": 9,
   "metadata": {},
   "outputs": [
    {
     "data": {
      "text/html": [
       "<table><tr><td>Galaxy S8+<img src='./example_image/Snack(S8+)_resize.jpg'></td><td>P' Nan<img src='./example_image/iPad_s8_augmented_img/Snack(S8+)_resize_Nannnnn.jpg'></td><td>iPad Mini 4<img src='./example_image/Snack(iPad)_resize.jpg'></td></tr></table>"
      ],
      "text/plain": [
       "<IPython.core.display.HTML object>"
      ]
     },
     "metadata": {},
     "output_type": "display_data"
    },
    {
     "data": {
      "text/html": [
       "<table><tr><td>Galaxy S8+<img src='./example_image/Snack(S8+)_resize.jpg'></td><td>Mine<img src='./example_image/iPad_s8_augmented_img/Snack(S8+)_resize_Edited_By_exp-27_model-15(Avg).jpg'></td><td>iPad Mini 4<img src='./example_image/Snack(iPad)_resize.jpg'></td></tr></table>"
      ],
      "text/plain": [
       "<IPython.core.display.HTML object>"
      ]
     },
     "metadata": {},
     "output_type": "display_data"
    }
   ],
   "source": [
    "feature_img = \"./example_image/Snack(S8+)_resize.jpg\"\n",
    "label_img = \"./example_image/Snack(iPad)_resize.jpg\"\n",
    "nan_img = \"./example_image/iPad_s8_augmented_img/Snack(S8+)_resize_Nannnnn.jpg\"\n",
    "my_own_img = \"./example_image/iPad_s8_augmented_img/Snack(S8+)_resize_Edited_By_exp-27_model-15(Avg).jpg\"\n",
    "\n",
    "display(HTML(\"<table><tr><td>Galaxy S8+<img src='\"+ feature_img +\"'></td><td>P' Nan<img src='\"+ nan_img +\"'></td><td>iPad Mini 4<img src='\"+ label_img +\"'></td></tr></table>\"))\n",
    "display(HTML(\"<table><tr><td>Galaxy S8+<img src='\"+ feature_img +\"'></td><td>Mine<img src='\"+ my_own_img +\"'></td><td>iPad Mini 4<img src='\"+ label_img +\"'></td></tr></table>\"))"
   ]
  },
  {
   "cell_type": "code",
   "execution_count": null,
   "metadata": {
    "collapsed": true
   },
   "outputs": [],
   "source": []
  }
 ],
 "metadata": {
  "kernelspec": {
   "display_name": "Python 3",
   "language": "python",
   "name": "python3"
  },
  "language_info": {
   "codemirror_mode": {
    "name": "ipython",
    "version": 3
   },
   "file_extension": ".py",
   "mimetype": "text/x-python",
   "name": "python",
   "nbconvert_exporter": "python",
   "pygments_lexer": "ipython3",
   "version": "3.6.3"
  }
 },
 "nbformat": 4,
 "nbformat_minor": 2
}
