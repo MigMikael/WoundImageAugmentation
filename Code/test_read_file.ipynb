{
 "cells": [
  {
   "cell_type": "code",
   "execution_count": 7,
   "metadata": {},
   "outputs": [
    {
     "name": "stdout",
     "output_type": "stream",
     "text": [
      "12\n",
      "0.00002\n",
      "300\n",
      "259308\n",
      "2646\n"
     ]
    }
   ],
   "source": [
    "parameter_path = \"./parameter_set/\"\n",
    "name = \"set-1.txt\"\n",
    "with open(parameter_path + name, 'r') as datafile:\n",
    "    for line in datafile:\n",
    "        p = line.split('=')\n",
    "        print(p[1].replace(\"\\n\", \"\"))"
   ]
  },
  {
   "cell_type": "code",
   "execution_count": null,
   "metadata": {
    "collapsed": true
   },
   "outputs": [],
   "source": []
  }
 ],
 "metadata": {
  "kernelspec": {
   "display_name": "Python 3",
   "language": "python",
   "name": "python3"
  },
  "language_info": {
   "codemirror_mode": {
    "name": "ipython",
    "version": 3
   },
   "file_extension": ".py",
   "mimetype": "text/x-python",
   "name": "python",
   "nbconvert_exporter": "python",
   "pygments_lexer": "ipython3",
   "version": "3.6.2"
  }
 },
 "nbformat": 4,
 "nbformat_minor": 2
}
