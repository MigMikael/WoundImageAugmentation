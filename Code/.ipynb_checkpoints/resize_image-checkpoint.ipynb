{
 "cells": [
  {
   "cell_type": "code",
   "execution_count": 4,
   "metadata": {},
   "outputs": [
    {
     "data": {
      "text/plain": [
       "True"
      ]
     },
     "execution_count": 4,
     "metadata": {},
     "output_type": "execute_result"
    }
   ],
   "source": [
    "import cv2\n",
    "\n",
    "filename = \"IMG_20171225_172149(Mi5).jpg\"\n",
    "#filename = \"IMG_0998(iPad).JPG\"\n",
    "\n",
    "oriimage = cv2.imread(filename)\n",
    "\n",
    "#print(oriimage.shape[1], oriimage.shape[0])\n",
    "\n",
    "newx,newy = (oriimage.shape[1]*1200)/3456 ,(oriimage.shape[0]*1600)/4608\n",
    "#newx,newy = (oriimage.shape[1]*1200)/2448 ,(oriimage.shape[0]*1600)/3264\n",
    "#print(newx, newy)\n",
    "\n",
    "newimage = cv2.resize(oriimage,(int(newx),int(newy)))\n",
    "cv2.imwrite('IMG_20171225_172149(Mi5)_resize.jpg',newimage)"
   ]
  },
  {
   "cell_type": "code",
   "execution_count": null,
   "metadata": {
    "collapsed": true
   },
   "outputs": [],
   "source": []
  }
 ],
 "metadata": {
  "kernelspec": {
   "display_name": "Python 3",
   "language": "python",
   "name": "python3"
  },
  "language_info": {
   "codemirror_mode": {
    "name": "ipython",
    "version": 3
   },
   "file_extension": ".py",
   "mimetype": "text/x-python",
   "name": "python",
   "nbconvert_exporter": "python",
   "pygments_lexer": "ipython3",
   "version": "3.6.3"
  }
 },
 "nbformat": 4,
 "nbformat_minor": 2
}
