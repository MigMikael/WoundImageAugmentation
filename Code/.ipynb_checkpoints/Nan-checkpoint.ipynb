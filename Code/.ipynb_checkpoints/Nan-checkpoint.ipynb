{
 "cells": [
  {
   "cell_type": "code",
   "execution_count": 1,
   "metadata": {
    "collapsed": true
   },
   "outputs": [],
   "source": [
    "import numpy as np\n",
    "import scipy as sp"
   ]
  },
  {
   "cell_type": "code",
   "execution_count": 25,
   "metadata": {},
   "outputs": [
    {
     "name": "stdout",
     "output_type": "stream",
     "text": [
      "11847024\n",
      "11847024\n"
     ]
    }
   ],
   "source": [
    "data_path = \"../Data/iPad_s8/iPad_s8_train_data_3.txt\"\n",
    "\n",
    "label_arr = []\n",
    "feature_arr = []\n",
    "\n",
    "with open(data_path, 'r') as data_file:\n",
    "        for line in data_file:\n",
    "            value = line.split('|')\n",
    "            \n",
    "            label_line = value[1]\n",
    "            label_rgb = label_line.split(' ')\n",
    "            label_arr.append([int(label_rgb[1]), int(label_rgb[2]), int(label_rgb[3])])\n",
    "            \n",
    "            feature_line = value[2]\n",
    "            feature_rgb = feature_line.split(' ')\n",
    "            feature_arr.append([1, int(feature_rgb[1]), int(feature_rgb[2]), int(feature_rgb[3].replace('\\n', ''))])\n",
    "            \n",
    "#print(label_arr[:10])\n",
    "print(len(label_arr))\n",
    "\n",
    "#print(feature_arr[:10])\n",
    "print(len(feature_arr))"
   ]
  },
  {
   "cell_type": "code",
   "execution_count": 26,
   "metadata": {},
   "outputs": [],
   "source": [
    "x = np.array(feature_arr) # target value => S8\n",
    "#print(\"x : \", x[:10])\n",
    "xt = x.transpose()\n",
    "#print(\"xt : \", xt[:10])\n",
    "\n",
    "y = np.array(label_arr) # original value => iPad Mini 4\n",
    "#print(\"y : \", y[:10])"
   ]
  },
  {
   "cell_type": "code",
   "execution_count": 27,
   "metadata": {},
   "outputs": [
    {
     "name": "stdout",
     "output_type": "stream",
     "text": [
      "[[ -4.19177110e+00  -1.88891061e+00  -2.94830842e-02]\n",
      " [  9.09799628e-01   5.31777804e-02  -1.35308044e-02]\n",
      " [ -5.29412699e-02   8.65753128e-01   1.88806811e-02]\n",
      " [ -1.14148538e-03  -5.45939643e-02   7.91649258e-01]]\n"
     ]
    }
   ],
   "source": [
    "# Find w = (XtX)^-1 Xt Y\n",
    "prefix = np.matmul(xt, x)\n",
    "prefix_inv = np.linalg.pinv(prefix)\n",
    "w = np.matmul(prefix_inv, np.matmul(xt, y))\n",
    "print(w)"
   ]
  },
  {
   "cell_type": "code",
   "execution_count": 28,
   "metadata": {},
   "outputs": [
    {
     "data": {
      "text/plain": [
       "array([[  30.40484047,   91.21372668,  142.46535772],\n",
       "       [  48.62137087,  142.96221838,   75.86463836],\n",
       "       [ 108.0045137 ,  134.4077601 ,  161.14274047],\n",
       "       ..., \n",
       "       [  42.8812287 ,   82.17112787,  132.56309799],\n",
       "       [  43.85875762,  142.67307857,  113.98809883],\n",
       "       [ 124.27045853,  136.87809054,  164.10354439]])"
      ]
     },
     "execution_count": 28,
     "metadata": {},
     "output_type": "execute_result"
    }
   ],
   "source": [
    "np.matmul(x, w)"
   ]
  },
  {
   "cell_type": "code",
   "execution_count": 79,
   "metadata": {},
   "outputs": [],
   "source": [
    "from PIL import Image\n",
    "\n",
    "image_path = \"./example_image/Snack(S8+)_resize.jpg\"\n",
    "img = Image.open(image_path)\n",
    "pixel_list = []\n",
    "for i in range(img.size[0]):    \n",
    "        for j in range(img.size[1]):\n",
    "            pixel_list.append(img.getpixel((i,j)))\n",
    "            #print(\"R : \", img.getpixel((i,j))[0])\n",
    "\n",
    "#print(pixel_list[:10])\n",
    "#print(len(pixel_list))\n",
    "\n",
    "pixel_set = set(pixel_list)\n",
    "original_value = list(pixel_set)\n",
    "#print(original_value[:10])\n",
    "#print(len(original_value))\n",
    "\n",
    "original_unique_value = []\n",
    "for point in original_value:\n",
    "    original_unique_value.append([1, point[0], point[1], point[2]])\n",
    "\n",
    "original_value_arr = np.array(original_unique_value)\n",
    "#print(original_value_arr[:10])\n"
   ]
  },
  {
   "cell_type": "code",
   "execution_count": 80,
   "metadata": {},
   "outputs": [
    {
     "name": "stdout",
     "output_type": "stream",
     "text": [
      "[[ 177.00281826  162.73544461   85.30956398]\n",
      " [ 200.39840995  189.80818258   14.94058461]\n",
      " [  57.49419765   53.70613661  115.87985772]\n",
      " ..., \n",
      " [ 142.19265525  130.93110029  126.43125647]\n",
      " [  98.8096607    85.62525618   53.25115826]\n",
      " [ 166.95673846   85.40985446  113.19334083]]\n",
      "194984\n"
     ]
    }
   ],
   "source": [
    "predict_arr = np.matmul(original_value_arr, w)\n",
    "print(predict_arr)\n",
    "print(len(predict_arr))"
   ]
  },
  {
   "cell_type": "code",
   "execution_count": 81,
   "metadata": {},
   "outputs": [
    {
     "name": "stdout",
     "output_type": "stream",
     "text": [
      "(210, 184, 107)  =>  [ 177.00281826  162.73544461   85.30956398]\n",
      "(237, 208, 18)  =>  [ 200.39840995  189.80818258   14.94058461]\n",
      "(72, 69, 146)  =>  [  57.49419765   53.70613661  115.87985772]\n",
      "(193, 160, 55)  =>  [ 162.86617229  143.89223342   43.92068987]\n",
      "(190, 169, 152)  =>  [ 159.5495779   146.22886369  120.92118647]\n",
      "(229, 223, 197)  =>  [ 192.12156799  192.59673764  157.03725851]\n"
     ]
    }
   ],
   "source": [
    "combined_dict = {}\n",
    "i = 0\n",
    "for e in original_value:\n",
    "    combined_dict[e] = predict_arr[i]\n",
    "    i += 1\n",
    "\n",
    "i = 0\n",
    "for key in combined_dict:\n",
    "    print(key , \" => \", combined_dict[key])\n",
    "    i+=1\n",
    "    if i > 5:\n",
    "        break"
   ]
  },
  {
   "cell_type": "code",
   "execution_count": 82,
   "metadata": {},
   "outputs": [
    {
     "name": "stdout",
     "output_type": "stream",
     "text": [
      "Finish Write Image\n"
     ]
    }
   ],
   "source": [
    "def correct_range(pixel_value):\n",
    "    if pixel_value < 0:\n",
    "        pixel_value = 0\n",
    "        \n",
    "    if pixel_value > 255:\n",
    "        pixel_value = 255\n",
    "        \n",
    "    return pixel_value\n",
    "\n",
    "img = Image.open(image_path)\n",
    "pixels = img.load()\n",
    "for i in range(img.size[0]):    \n",
    "        for j in range(img.size[1]):\n",
    "            key = img.getpixel((i,j))\n",
    "            R = int(combined_dict[key][0])\n",
    "            G = int(combined_dict[key][1])\n",
    "            B = int(combined_dict[key][2])\n",
    "            \n",
    "            R = correct_range(R)\n",
    "            G = correct_range(G)\n",
    "            B = correct_range(B)\n",
    "            \n",
    "            pixels[i,j] = (R, G, B)\n",
    "            \n",
    "img.save(\"./example_image/iPad_s8_augmented_img/Snack(S8+)_resize_Nannnnn.jpg\")\n",
    "print(\"Finish Write Image\")"
   ]
  },
  {
   "cell_type": "code",
   "execution_count": null,
   "metadata": {
    "collapsed": true
   },
   "outputs": [],
   "source": []
  }
 ],
 "metadata": {
  "kernelspec": {
   "display_name": "Python 3",
   "language": "python",
   "name": "python3"
  },
  "language_info": {
   "codemirror_mode": {
    "name": "ipython",
    "version": 3
   },
   "file_extension": ".py",
   "mimetype": "text/x-python",
   "name": "python",
   "nbconvert_exporter": "python",
   "pygments_lexer": "ipython3",
   "version": "3.6.3"
  }
 },
 "nbformat": 4,
 "nbformat_minor": 2
}
