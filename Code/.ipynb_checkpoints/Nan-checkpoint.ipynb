{
 "cells": [
  {
   "cell_type": "code",
   "execution_count": 1,
   "metadata": {
    "collapsed": true
   },
   "outputs": [],
   "source": [
    "import numpy as np\n",
    "import scipy as sp"
   ]
  },
  {
   "cell_type": "code",
   "execution_count": 2,
   "metadata": {},
   "outputs": [
    {
     "name": "stdout",
     "output_type": "stream",
     "text": [
      "11848824\n",
      "11848824\n"
     ]
    }
   ],
   "source": [
    "data_path = \"../Data/iPad_s8/iPad_s8_train_data_6.txt\"\n",
    "\n",
    "label_arr = []\n",
    "feature_arr = []\n",
    "\n",
    "with open(data_path, 'r') as data_file:\n",
    "        for line in data_file:\n",
    "            value = line.split('|')\n",
    "            \n",
    "            label_line = value[1]\n",
    "            label_rgb = label_line.split(' ')\n",
    "            label_arr.append([int(label_rgb[1]), int(label_rgb[2]), int(label_rgb[3])])\n",
    "            \n",
    "            feature_line = value[2]\n",
    "            feature_rgb = feature_line.split(' ')\n",
    "            feature_arr.append([1, int(feature_rgb[1]), int(feature_rgb[2]), int(feature_rgb[3].replace('\\n', ''))])\n",
    "            \n",
    "#print(label_arr[:10])\n",
    "print(len(label_arr))\n",
    "\n",
    "#print(feature_arr[:10])\n",
    "print(len(feature_arr))"
   ]
  },
  {
   "cell_type": "code",
   "execution_count": 3,
   "metadata": {
    "collapsed": true
   },
   "outputs": [],
   "source": [
    "x = np.array(feature_arr) # target value => S8\n",
    "#print(\"x : \", x[:10])\n",
    "xt = x.transpose()\n",
    "#print(\"xt : \", xt[:10])\n",
    "\n",
    "y = np.array(label_arr) # original value => iPad Mini 4\n",
    "#print(\"y : \", y[:10])"
   ]
  },
  {
   "cell_type": "code",
   "execution_count": 4,
   "metadata": {},
   "outputs": [
    {
     "name": "stdout",
     "output_type": "stream",
     "text": [
      "[[ -4.19134252e+00  -1.88340926e+00  -7.21939611e-02]\n",
      " [  9.09895066e-01   5.32591294e-02  -1.32189213e-02]\n",
      " [ -5.29201456e-02   8.65673677e-01   1.92106157e-02]\n",
      " [ -1.16818478e-03  -5.45212756e-02   7.91463762e-01]]\n"
     ]
    }
   ],
   "source": [
    "# Find w = (XtX)^-1 Xt Y\n",
    "prefix = np.matmul(xt, x)\n",
    "prefix_inv = np.linalg.pinv(prefix)\n",
    "w = np.matmul(prefix_inv, np.matmul(xt, y))\n",
    "print(w)"
   ]
  },
  {
   "cell_type": "code",
   "execution_count": 5,
   "metadata": {},
   "outputs": [
    {
     "data": {
      "text/plain": [
       "array([[ 108.07325719,  133.77830439,  157.97242353],\n",
       "       [  89.01992291,  127.58160463,   42.42137129],\n",
       "       [  52.85580838,   98.62447176,  129.56330612],\n",
       "       ..., \n",
       "       [  87.01897338,  108.06439957,  122.09149818],\n",
       "       [ 144.41388285,  100.46650238,   65.54288124],\n",
       "       [ 124.72496275,  134.16390162,  115.71006109]])"
      ]
     },
     "execution_count": 5,
     "metadata": {},
     "output_type": "execute_result"
    }
   ],
   "source": [
    "np.matmul(x, w)"
   ]
  },
  {
   "cell_type": "code",
   "execution_count": 14,
   "metadata": {
    "collapsed": true
   },
   "outputs": [],
   "source": [
    "from PIL import Image\n",
    "\n",
    "image_path = \"./example_image/Snack(S8+)_resize.jpg\"\n",
    "img = Image.open(image_path)\n",
    "pixel_list = []\n",
    "for i in range(img.size[0]):    \n",
    "        for j in range(img.size[1]):\n",
    "            pixel_list.append(img.getpixel((i,j)))\n",
    "            #print(\"R : \", img.getpixel((i,j))[0])\n",
    "\n",
    "#print(pixel_list[:10])\n",
    "#print(len(pixel_list))\n",
    "\n",
    "pixel_set = set(pixel_list)\n",
    "original_value = list(pixel_set)\n",
    "#print(original_value[:10])\n",
    "#print(len(original_value))\n",
    "\n",
    "original_unique_value = []\n",
    "for point in original_value:\n",
    "    original_unique_value.append([1, point[0], point[1], point[2]])\n",
    "\n",
    "original_value_arr = np.array(original_unique_value)\n",
    "#print(original_value_arr[:10])\n"
   ]
  },
  {
   "cell_type": "code",
   "execution_count": 15,
   "metadata": {},
   "outputs": [
    {
     "name": "stdout",
     "output_type": "stream",
     "text": [
      "[[ 177.02431871  162.75118801   85.3732084 ]\n",
      " [ 200.42537043  189.81774629   15.03707747]\n",
      " [  57.49905719   53.72262554  115.85528545]\n",
      " ..., \n",
      " [ 142.20829499  130.94983251  126.46255179]\n",
      " [  98.82172765   85.63752203   53.2654668 ]\n",
      " [ 166.97390734   85.43381851  113.21675738]]\n",
      "194984\n"
     ]
    }
   ],
   "source": [
    "predict_arr = np.matmul(original_value_arr, w)\n",
    "print(predict_arr)\n",
    "print(len(predict_arr))"
   ]
  },
  {
   "cell_type": "code",
   "execution_count": 16,
   "metadata": {},
   "outputs": [
    {
     "name": "stdout",
     "output_type": "stream",
     "text": [
      "(210, 184, 107)  =>  [ 177.02431871  162.75118801   85.3732084 ]\n",
      "(237, 208, 18)  =>  [ 200.42537043  189.81774629   15.03707747]\n",
      "(72, 69, 146)  =>  [  57.49905719   53.72262554  115.85528545]\n",
      "(193, 160, 55)  =>  [ 162.8869317   143.90472089   43.98075965]\n",
      "(190, 169, 152)  =>  [ 159.56765127  146.24744286  120.96529688]\n",
      "(229, 223, 197)  =>  [ 192.14330265  192.61747007  157.10300149]\n"
     ]
    }
   ],
   "source": [
    "combined_dict = {}\n",
    "i = 0\n",
    "for e in original_value:\n",
    "    combined_dict[e] = predict_arr[i]\n",
    "    i += 1\n",
    "\n",
    "i = 0\n",
    "for key in combined_dict:\n",
    "    print(key , \" => \", combined_dict[key])\n",
    "    i+=1\n",
    "    if i > 5:\n",
    "        break"
   ]
  },
  {
   "cell_type": "code",
   "execution_count": 17,
   "metadata": {},
   "outputs": [
    {
     "name": "stdout",
     "output_type": "stream",
     "text": [
      "Finish Write Image\n"
     ]
    }
   ],
   "source": [
    "def correct_range(pixel_value):\n",
    "    if pixel_value < 0:\n",
    "        pixel_value = 0\n",
    "        \n",
    "    if pixel_value > 255:\n",
    "        pixel_value = 255\n",
    "        \n",
    "    return pixel_value\n",
    "\n",
    "img = Image.open(image_path)\n",
    "pixels = img.load()\n",
    "for i in range(img.size[0]):    \n",
    "        for j in range(img.size[1]):\n",
    "            key = img.getpixel((i,j))\n",
    "            R = int(combined_dict[key][0])\n",
    "            G = int(combined_dict[key][1])\n",
    "            B = int(combined_dict[key][2])\n",
    "            \n",
    "            R = correct_range(R)\n",
    "            G = correct_range(G)\n",
    "            B = correct_range(B)\n",
    "            \n",
    "            pixels[i,j] = (R, G, B)\n",
    "            \n",
    "img.save(\"./example_image/iPad_s8_augmented_img/Snack(S8+)_resize_Nannnnn.jpg\")\n",
    "print(\"Finish Write Image\")"
   ]
  },
  {
   "cell_type": "code",
   "execution_count": null,
   "metadata": {
    "collapsed": true
   },
   "outputs": [],
   "source": []
  }
 ],
 "metadata": {
  "kernelspec": {
   "display_name": "Python 3",
   "language": "python",
   "name": "python3"
  },
  "language_info": {
   "codemirror_mode": {
    "name": "ipython",
    "version": 3
   },
   "file_extension": ".py",
   "mimetype": "text/x-python",
   "name": "python",
   "nbconvert_exporter": "python",
   "pygments_lexer": "ipython3",
   "version": "3.6.3"
  }
 },
 "nbformat": 4,
 "nbformat_minor": 2
}
