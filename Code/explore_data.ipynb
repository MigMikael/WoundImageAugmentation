{
 "cells": [
  {
   "cell_type": "code",
   "execution_count": 19,
   "metadata": {},
   "outputs": [
    {
     "name": "stdout",
     "output_type": "stream",
     "text": [
      "[0, 0, 0, 0, 0, 0, 0, 0, 0, 0, 0, 0, 0, 0, 0, 0, 0, 0, 0, 0, 0, 0, 0, 0, 0, 0, 0, 0, 0, 0, 0, 0, 0, 0, 0, 0, 0, 0, 0, 0, 0, 0, 0, 0, 0, 0, 0, 0, 0, 0, 0, 0, 0, 0, 0, 0, 0, 0, 0, 0, 0, 0, 0, 0, 0, 0, 0, 0, 0, 0, 0, 0, 0, 0, 0, 0, 0, 0, 0, 0, 0, 0, 0, 0, 0, 0, 0, 0, 0, 0, 0, 0, 0, 0, 0, 0, 0, 0, 0, 0, 0, 0, 0, 0, 0, 0, 0, 0, 0, 0, 0, 0, 0, 0, 0, 0, 0, 0, 0, 0, 0, 0, 0, 0, 0, 0, 0, 0, 0, 0, 0, 0, 0, 0, 0, 0, 0, 0, 0, 0, 0, 0, 0, 0, 0, 0, 0, 0, 0, 0, 0, 0, 0, 0, 0, 0, 0, 0, 0, 0, 0, 0, 0, 0, 0, 0, 0, 0, 0, 0, 0, 0, 0, 0, 0, 0, 0, 0, 0, 0, 0, 0, 0, 0, 0, 0, 0, 0, 0, 0, 0, 0, 0, 0, 0, 0, 0, 0, 0, 0, 0, 0, 0, 0, 0, 0, 0, 0, 0, 0, 0, 0, 0, 0, 0, 0, 0, 0, 0, 0, 0, 0, 0, 0, 0, 0, 0, 0, 0, 0, 0, 0, 0, 0, 0, 0, 0, 0, 0, 0, 0, 0, 0, 0, 0, 0, 0, 0, 0, 0, 0, 0, 0, 0, 0, 0]\n",
      "[0, 0, 0, 0, 0, 0, 0, 0, 0, 0, 0, 0, 2, 5, 7, 18, 41, 63, 105, 181, 287, 431, 571, 786, 959, 1263, 1588, 1924, 2161, 2614, 3061, 3357, 3945, 4437, 4721, 5447, 6060, 6550, 7172, 7853, 8287, 8919, 9744, 10216, 10537, 11072, 11662, 11752, 11987, 12359, 12561, 12957, 13099, 13070, 13223, 13346, 13108, 13031, 13120, 13027, 13032, 12758, 12407, 12265, 12334, 12023, 12000, 11749, 11474, 11246, 10990, 10752, 10567, 10259, 10038, 9758, 9811, 9787, 9408, 9342, 9036, 8931, 8791, 8565, 8520, 8360, 8323, 8345, 8302, 8247, 8279, 8354, 8323, 8116, 8092, 7961, 7703, 7720, 7606, 7481, 7303, 7235, 7103, 7268, 7354, 7398, 7458, 7375, 7483, 7520, 7451, 7381, 7325, 7322, 7093, 7048, 6851, 6996, 6824, 6941, 6800, 7002, 7073, 7201, 7320, 7338, 7371, 7374, 7405, 7392, 7182, 7329, 7006, 7108, 6845, 6864, 6860, 6910, 6955, 6932, 6984, 7175, 6907, 7101, 7125, 7358, 7199, 7176, 7210, 7250, 7309, 7335, 7371, 7404, 7437, 7324, 7260, 7473, 7464, 7675, 7642, 7677, 7973, 8531, 8880, 9263, 10176, 10481, 11012, 11644, 11946, 12611, 12834, 13660, 14027, 14445, 14426, 14442, 14051, 13078, 12300, 11361, 10605, 10146, 9817, 9608, 9125, 8763, 8319, 7545, 6694, 5914, 5668, 5063, 4634, 4189, 3585, 3261, 2980, 2553, 2194, 1978, 1656, 1424, 1182, 1008, 925, 895, 780, 673, 518, 469, 402, 404, 362, 321, 307, 227, 230, 174, 170, 133, 107, 108, 114, 86, 80, 73, 79, 115, 102, 110, 102, 113, 87, 83, 55, 42, 9, 0, 0, 0, 0, 0, 0, 0, 0, 0, 0, 0, 0, 0, 0, 0, 0, 0]\n",
      "1511100\n",
      "12\n",
      "238\n"
     ]
    }
   ],
   "source": [
    "train_path = \"../Data/iPad_s8/iPad_s8_train_data_4.txt\"\n",
    "test_path = \"../Data/iPad_s8/iPad_s8_test_data_4.txt\"\n",
    "\n",
    "i = 0\n",
    "\n",
    "label_r_count = [0 for i in range(256)]\n",
    "print(label_r_count)\n",
    "\n",
    "min_label_r = 256\n",
    "max_label_r = 0\n",
    "with open(test_path, 'r') as train_file:\n",
    "        for line in train_file:\n",
    "            blank, label_value, feature_value = line.split(\"|\")\n",
    "            #print(label_value)\n",
    "            #print(feature_value)\n",
    "            label_value = label_value.replace(\"labels\", \"\").split(\" \")\n",
    "            feature_value = feature_value.replace(\"features\", \"\").split(\" \")\n",
    "            \n",
    "            #print(label_value)\n",
    "            #print(feature_value)\n",
    "            label_r_count[int(label_value[1])] += 1\n",
    "            if int(label_value[1]) < min_label_r:\n",
    "                min_label_r = int(label_value[1])\n",
    "            if int(label_value[1]) > max_label_r:\n",
    "                max_label_r = int(label_value[1])\n",
    "print(label_r_count)\n",
    "total = 0\n",
    "for i in label_r_count:\n",
    "    total += i\n",
    "    \n",
    "print(total)\n",
    "print(min_label_r)\n",
    "print(max_label_r)"
   ]
  },
  {
   "cell_type": "code",
   "execution_count": 20,
   "metadata": {},
   "outputs": [
    {
     "name": "stdout",
     "output_type": "stream",
     "text": [
      "['76 66 49', '77 66 48', '79 67 49', '77 67 49']\n"
     ]
    }
   ],
   "source": [
    "test_list = [\"79 67 49\", \"77 66 48\", \"76 66 49\", \"79 67 49\", \"77 67 49\"]\n",
    "test_list = list(set(test_list))\n",
    "print(test_list)"
   ]
  },
  {
   "cell_type": "code",
   "execution_count": null,
   "metadata": {
    "collapsed": true
   },
   "outputs": [],
   "source": []
  }
 ],
 "metadata": {
  "kernelspec": {
   "display_name": "Python 3",
   "language": "python",
   "name": "python3"
  },
  "language_info": {
   "codemirror_mode": {
    "name": "ipython",
    "version": 3
   },
   "file_extension": ".py",
   "mimetype": "text/x-python",
   "name": "python",
   "nbconvert_exporter": "python",
   "pygments_lexer": "ipython3",
   "version": "3.6.3"
  }
 },
 "nbformat": 4,
 "nbformat_minor": 2
}
