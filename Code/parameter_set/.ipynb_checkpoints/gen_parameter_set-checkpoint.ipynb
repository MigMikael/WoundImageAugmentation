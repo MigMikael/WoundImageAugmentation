{
 "cells": [
  {
   "cell_type": "code",
   "execution_count": 1,
   "metadata": {},
   "outputs": [
    {
     "name": "stdout",
     "output_type": "stream",
     "text": [
      "Finish\n"
     ]
    }
   ],
   "source": [
    "experiment_no = \"./exp_28/\"\n",
    "name = \"set-\"\n",
    "extension = \".txt\"\n",
    "\n",
    "hidden_layer_dim_list = [6, 9, 12, 15, 18, 21, 24, 27]\n",
    "#hidden_layer_dim_list = [27]\n",
    "#learning_rate_list = [0.0000124, 0.00001237, 0.00001235, 0.00001232, 0.0000123, 0.00001227, 0.00001225, 0.00001222, 0.0000122, 0.00001217, 0.00001215, 0.00001212, 0.0000121, 0.00001207, 0.00001205, 0.00001202]\n",
    "learning_rate_list = [0.00002]\n",
    "minibatch_size = [300, 500]\n",
    "\n",
    "with open(experiment_no + \"param_summary.txt\", \"w\") as summaryfile:\n",
    "    summaryfile.write(\"hidden layer dim : \" + str(hidden_layer_dim_list) + \"\\n\")\n",
    "    summaryfile.write(\"learning_rate_list : \" + str(learning_rate_list) + \"\\n\")\n",
    "    summaryfile.write(\"minibatch_size : \" + str(minibatch_size) + \"\\n\")\n",
    "\n",
    "count = 0\n",
    "for i in hidden_layer_dim_list:\n",
    "    for j in learning_rate_list:\n",
    "        for k in minibatch_size:\n",
    "            count += 1\n",
    "            file_name = experiment_no + name + str(count) + extension\n",
    "            with open(file_name, 'a') as outfile:\n",
    "                outfile.write(\"hidden_layers_dim=\" + str(i) + \"\\n\")\n",
    "                outfile.write(\"learning_rate=\"+str(j) + \"\\n\")\n",
    "                outfile.write(\"minibatch_size=\"+str(k) + \"\\n\")\n",
    "                #outfile.write(\"num_train_samples_per_sweep=259308\\n\")\n",
    "                #outfile.write(\"num_train_samples_per_sweep=11628288\\n\")\n",
    "                #outfile.write(\"num_train_samples_per_sweep=11734128\\n\")\n",
    "                #outfile.write(\"num_train_samples_per_sweep=11916288\\n\")\n",
    "                #outfile.write(\"num_train_samples_per_sweep=1767024\\n\")\n",
    "                #outfile.write(\"num_train_samples_per_sweep=2155248\\n\")\n",
    "                #outfile.write(\"num_train_samples_per_sweep=256752\\n\")\n",
    "                #outfile.write(\"num_train_samples_per_sweep=5986800\\n\")\n",
    "                #outfile.write(\"num_train_samples_per_sweep=5990400\\n\")\n",
    "                #outfile.write(\"num_train_samples_per_sweep=2156544\\n\")\n",
    "                #outfile.write(\"num_train_samples_per_sweep=11847024\\n\")\n",
    "                outfile.write(\"num_train_samples_per_sweep=6044400\\n\")\n",
    "                #outfile.write(\"num_test_samples=2646\\n\")\n",
    "                #outfile.write(\"num_test_samples=2907072\\n\")\n",
    "                #outfile.write(\"num_test_samples=2933532\\n\")\n",
    "                #outfile.write(\"num_test_samples=2979072\\n\")\n",
    "                #outfile.write(\"num_test_samples=441756\\n\")\n",
    "                #outfile.write(\"num_test_samples=538812\\n\")\n",
    "                #outfile.write(\"num_test_samples=64188\\n\")\n",
    "                #outfile.write(\"num_test_samples=1496700\\n\")\n",
    "                #outfile.write(\"num_test_samples=1497600\\n\")\n",
    "                #outfile.write(\"num_test_samples=539136\\n\")\n",
    "                outfile.write(\"num_test_samples=1511100\\n\")\n",
    "print(\"Finish\")        "
   ]
  },
  {
   "cell_type": "code",
   "execution_count": null,
   "metadata": {
    "collapsed": true
   },
   "outputs": [],
   "source": []
  }
 ],
 "metadata": {
  "kernelspec": {
   "display_name": "Python 3",
   "language": "python",
   "name": "python3"
  },
  "language_info": {
   "codemirror_mode": {
    "name": "ipython",
    "version": 3
   },
   "file_extension": ".py",
   "mimetype": "text/x-python",
   "name": "python",
   "nbconvert_exporter": "python",
   "pygments_lexer": "ipython3",
   "version": "3.6.3"
  }
 },
 "nbformat": 4,
 "nbformat_minor": 2
}
