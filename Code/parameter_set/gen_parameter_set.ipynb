{
 "cells": [
  {
   "cell_type": "code",
   "execution_count": 1,
   "metadata": {},
   "outputs": [
    {
     "name": "stdout",
     "output_type": "stream",
     "text": [
      "Finish\n"
     ]
    }
   ],
   "source": [
    "name = \"set-\"\n",
    "extension = \".txt\"\n",
    "\n",
    "hidden_layer_dim_list = [6, 9, 12, 15, 18, 21, 24, 27]\n",
    "learning_rate_list = [0.00002, 0.000015, 0.00001, 0.000005]\n",
    "minibatch_size = [100, 200, 300, 400, 500]\n",
    "\n",
    "count = 0\n",
    "for i in hidden_layer_dim_list:\n",
    "    for j in learning_rate_list:\n",
    "        for k in minibatch_size:\n",
    "            count += 1\n",
    "            file_name = name + str(count) + extension\n",
    "            with open(file_name, 'a') as outfile:\n",
    "                outfile.write(\"hidden_layers_dim=\" + str(i) + \"\\n\")\n",
    "                outfile.write(\"learning_rate=\"+str(j) + \"\\n\")\n",
    "                outfile.write(\"minibatch_size=\"+str(k) + \"\\n\")\n",
    "                outfile.write(\"num_train_samples_per_sweep=259308\\n\")\n",
    "                outfile.write(\"num_test_samples=2646\\n\")\n",
    "print(\"Finish\")\n",
    "        "
   ]
  },
  {
   "cell_type": "code",
   "execution_count": null,
   "metadata": {
    "collapsed": true
   },
   "outputs": [],
   "source": []
  }
 ],
 "metadata": {
  "kernelspec": {
   "display_name": "Python 3",
   "language": "python",
   "name": "python3"
  },
  "language_info": {
   "codemirror_mode": {
    "name": "ipython",
    "version": 3
   },
   "file_extension": ".py",
   "mimetype": "text/x-python",
   "name": "python",
   "nbconvert_exporter": "python",
   "pygments_lexer": "ipython3",
   "version": "3.6.3"
  }
 },
 "nbformat": 4,
 "nbformat_minor": 2
}
