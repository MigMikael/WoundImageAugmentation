{
 "cells": [
  {
   "cell_type": "code",
   "execution_count": 11,
   "metadata": {},
   "outputs": [
    {
     "name": "stdout",
     "output_type": "stream",
     "text": [
      "63684\n",
      "Finish\n"
     ]
    }
   ],
   "source": [
    "from PIL import Image\n",
    "\n",
    "'''\n",
    "img = Image.new( 'RGB', (255,255), \"black\") \n",
    "pixels = img.load() \n",
    "\n",
    "for i in range(img.size[0]):    \n",
    "    for j in range(img.size[1]):    \n",
    "        pixels[i,j] = (i, j, 100) \n",
    "\n",
    "img.save(\"test_img.png\", \"PNG\")\n",
    "'''\n",
    "\n",
    "img = Image.open('Microsoft-Logo-3-small.jpg')\n",
    "pixels = img.load()\n",
    "\n",
    "pixel_list = []\n",
    "count = 1\n",
    "for i in range(img.size[0]):    \n",
    "    for j in range(img.size[1]):\n",
    "        #print(count, pixels[i,j])\n",
    "        pixel_list.append(pixels[i,j])\n",
    "        count+=1\n",
    "print(len(pixel_list))\n",
    "\n",
    "pixel_set = set(pixel_list)\n",
    "#print(pixel_set)\n",
    "\n",
    "count = 1\n",
    "for p in pixel_set:\n",
    "    #print(p[0])\n",
    "    with open(\"image_rgb_file.txt\", 'a') as outfile:\n",
    "        outfile.write(\"|no \" + str(count) + \"|features \" + str(p[0]) + \" \" + str(p[1]) + \" \" + str(p[2]) + \"\\n\")\n",
    "    count+=1\n",
    "\n",
    "#b = (0, 168, 246)\n",
    "#print(b in pixel_set)\n",
    "\n",
    "print(\"Read Image Finish\")"
   ]
  },
  {
   "cell_type": "code",
   "execution_count": null,
   "metadata": {
    "collapsed": true
   },
   "outputs": [],
   "source": []
  }
 ],
 "metadata": {
  "kernelspec": {
   "display_name": "Python 3",
   "language": "python",
   "name": "python3"
  },
  "language_info": {
   "codemirror_mode": {
    "name": "ipython",
    "version": 3
   },
   "file_extension": ".py",
   "mimetype": "text/x-python",
   "name": "python",
   "nbconvert_exporter": "python",
   "pygments_lexer": "ipython3",
   "version": "3.6.3"
  }
 },
 "nbformat": 4,
 "nbformat_minor": 2
}
