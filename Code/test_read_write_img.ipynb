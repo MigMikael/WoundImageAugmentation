{
 "cells": [
  {
   "cell_type": "code",
   "execution_count": 23,
   "metadata": {},
   "outputs": [
    {
     "name": "stdout",
     "output_type": "stream",
     "text": [
      "True\n"
     ]
    }
   ],
   "source": [
    "from PIL import Image\n",
    "import numpy\n",
    "\n",
    "img = Image.open(\"Microsoft-Logo-3-small.jpg\")\n",
    "pixel_list = []\n",
    "for i in range(img.size[0]):    \n",
    "    for j in range(img.size[1]):\n",
    "        pixel_list.append(img.getpixel((i,j)))\n",
    "        \n",
    "pixel_set = set(pixel_list)\n",
    "\n",
    "is_all_exist = True\n",
    "for i in range(len(pixel_list)):\n",
    "    if not pixel_list[i] in pixel_set:\n",
    "        is_all_exist = False\n",
    "    #print(pixel_list[i])\n",
    "\n",
    "print(is_all_exist)\n",
    "#img.save(\"Microsoft-Logo-3-small.png\")"
   ]
  },
  {
   "cell_type": "code",
   "execution_count": null,
   "metadata": {
    "collapsed": true
   },
   "outputs": [],
   "source": []
  },
  {
   "cell_type": "code",
   "execution_count": null,
   "metadata": {
    "collapsed": true
   },
   "outputs": [],
   "source": []
  }
 ],
 "metadata": {
  "kernelspec": {
   "display_name": "Python 3",
   "language": "python",
   "name": "python3"
  },
  "language_info": {
   "codemirror_mode": {
    "name": "ipython",
    "version": 3
   },
   "file_extension": ".py",
   "mimetype": "text/x-python",
   "name": "python",
   "nbconvert_exporter": "python",
   "pygments_lexer": "ipython3",
   "version": "3.6.3"
  }
 },
 "nbformat": 4,
 "nbformat_minor": 2
}
