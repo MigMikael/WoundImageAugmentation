{
 "cells": [
  {
   "cell_type": "code",
   "execution_count": 2,
   "metadata": {},
   "outputs": [
    {
     "name": "stdout",
     "output_type": "stream",
     "text": [
      "[[ 135.   71.   23.]]\n",
      "[[ 112.   73.   34.]]\n"
     ]
    }
   ],
   "source": [
    "import cntk\n",
    "import numpy\n",
    "import cv2\n",
    "from matplotlib import pyplot as plt\n",
    "from PIL import Image\n",
    "\n",
    "def create_reader(path, is_training, input_dim, num_label_classes):\n",
    "    labelStream = cntk.io.StreamDef(field='labels', shape=num_label_classes, is_sparse=False)\n",
    "    featureStream = cntk.io.StreamDef(field='features', shape=input_dim, is_sparse=False)\n",
    "    deserailizer = cntk.io.CTFDeserializer(path, cntk.io.StreamDefs(labels=labelStream, features=featureStream))\n",
    "    return cntk.io.MinibatchSource(deserailizer, randomize=is_training, max_sweeps=cntk.io.INFINITELY_REPEAT if is_training else 1)\n",
    "\n",
    "def load_model(path):\n",
    "    model = cntk.ops.functions.load_model(path)\n",
    "    return model\n",
    "\n",
    "def predict(model, data):\n",
    "    return model.eval(data[0])\n",
    "\n",
    "def do_predict(model_path, data_path):\n",
    "    model = load_model(model_path)\n",
    "    reader = create_reader(data_path, False, 3, 3)\n",
    "    input_map = {\n",
    "        #label: reader.streams.labels,\n",
    "        input: reader.streams.features\n",
    "    }\n",
    "    data = reader.next_minibatch(1, input_map=input_map)\n",
    "    \n",
    "    feature_data = data[input].asarray()[0]\n",
    "    print(feature_data)\n",
    "    #save_image(feature_data[0], \"feature_image.png\")\n",
    "    \n",
    "    #label_data = data[label].asarray()[0]\n",
    "    #print(label_data)\n",
    "    \n",
    "    return predict(model, feature_data)\n",
    "\n",
    "def save_image(arr, name):\n",
    "    predict_R = arr[0]\n",
    "    predict_G = arr[1]\n",
    "    predict_B = arr[2]\n",
    "    im = Image.new(\"RGB\", (128, 128))\n",
    "    pix = im.load()\n",
    "    for x in range(128):\n",
    "        for y in range(128):\n",
    "            pix[x, y] = (predict_R, predict_G, predict_B)\n",
    "            \n",
    "    im.save(name, \"PNG\")\n",
    "    print(\"save \" + name + \" success\")\n",
    "\n",
    "model_path = \"./saved_model/set-8.model\"\n",
    "data_path = \"../Data/evaluate-data-3.txt\"\n",
    "predict_value = do_predict(model_path, data_path)\n",
    "predict_value = predict_value.round()\n",
    "print(predict_value)\n",
    "#save_image(predict_value[0], \"predicted_image.png\")\n",
    "\n",
    "\n"
   ]
  },
  {
   "cell_type": "code",
   "execution_count": null,
   "metadata": {
    "collapsed": true
   },
   "outputs": [],
   "source": []
  }
 ],
 "metadata": {
  "kernelspec": {
   "display_name": "Python 3",
   "language": "python",
   "name": "python3"
  },
  "language_info": {
   "codemirror_mode": {
    "name": "ipython",
    "version": 3
   },
   "file_extension": ".py",
   "mimetype": "text/x-python",
   "name": "python",
   "nbconvert_exporter": "python",
   "pygments_lexer": "ipython3",
   "version": "3.6.3"
  }
 },
 "nbformat": 4,
 "nbformat_minor": 2
}
