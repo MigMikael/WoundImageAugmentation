{
 "cells": [
  {
   "cell_type": "code",
   "execution_count": 10,
   "metadata": {},
   "outputs": [
    {
     "name": "stdout",
     "output_type": "stream",
     "text": [
      "[[ 134.   70.   22.]]\n",
      "[[ 111.   72.   33.]]\n"
     ]
    }
   ],
   "source": [
    "import cntk\n",
    "\n",
    "def create_reader(path, is_training, input_dim, num_label_classes):\n",
    "    featureStream = cntk.io.StreamDef(field='features', shape=input_dim, is_sparse=False)\n",
    "    deserailizer = cntk.io.CTFDeserializer(path, cntk.io.StreamDefs(features=featureStream))\n",
    "    return cntk.io.MinibatchSource(deserailizer, randomize=is_training, max_sweeps=cntk.io.INFINITELY_REPEAT if is_training else 1)\n",
    "\n",
    "def load_model(path):\n",
    "    model = cntk.ops.functions.load_model(path)\n",
    "    return model\n",
    "\n",
    "def predict(model, data):\n",
    "    return model.eval(data[0])\n",
    "\n",
    "def do_predict(model_path, data_path):\n",
    "    model = load_model(model_path)\n",
    "    featuresStream = create_reader(data_path, False, 3, 0)\n",
    "    input_map = {input: featuresStream.streams.features}\n",
    "    data = featuresStream.next_minibatch(1, input_map=input_map)\n",
    "    evaluate_data = data[input].asarray()[0]\n",
    "    print(evaluate_data)\n",
    "    return predict(model, evaluate_data)\n",
    "\n",
    "model_path = \"./saved_model/set-8.model\"\n",
    "data_path = \"../Data/evaluate-data-3.txt\"\n",
    "predict_value = do_predict(model_path, data_path)\n",
    "predict_value = predict_value.round()\n",
    "print(predict_value)"
   ]
  },
  {
   "cell_type": "code",
   "execution_count": null,
   "metadata": {
    "collapsed": true
   },
   "outputs": [],
   "source": []
  }
 ],
 "metadata": {
  "kernelspec": {
   "display_name": "Python 3",
   "language": "python",
   "name": "python3"
  },
  "language_info": {
   "codemirror_mode": {
    "name": "ipython",
    "version": 3
   },
   "file_extension": ".py",
   "mimetype": "text/x-python",
   "name": "python",
   "nbconvert_exporter": "python",
   "pygments_lexer": "ipython3",
   "version": "3.6.2"
  }
 },
 "nbformat": 4,
 "nbformat_minor": 2
}
