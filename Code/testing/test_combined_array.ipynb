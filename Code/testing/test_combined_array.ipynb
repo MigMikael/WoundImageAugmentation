{
 "cells": [
  {
   "cell_type": "code",
   "execution_count": 9,
   "metadata": {},
   "outputs": [
    {
     "name": "stdout",
     "output_type": "stream",
     "text": [
      "[[1 2]\n",
      " [3 4]]\n",
      "\n",
      "[[1 2]\n",
      " [3 4]\n",
      " [5 6]\n",
      " [5 6]\n",
      " [5 6]\n",
      " [5 6]\n",
      " [5 6]\n",
      " [5 6]\n",
      " [5 6]\n",
      " [5 6]\n",
      " [5 6]\n",
      " [5 6]]\n"
     ]
    }
   ],
   "source": [
    "import numpy\n",
    "\n",
    "a = numpy.array([[1, 2], [3, 4]])\n",
    "print(a)\n",
    "print()\n",
    "for i in range(10):\n",
    "    b = numpy.array([[5, 6]])\n",
    "    a = numpy.concatenate((a, b), axis=0)\n",
    "    \n",
    "print(a)"
   ]
  },
  {
   "cell_type": "code",
   "execution_count": null,
   "metadata": {
    "collapsed": true
   },
   "outputs": [],
   "source": []
  }
 ],
 "metadata": {
  "kernelspec": {
   "display_name": "Python 3",
   "language": "python",
   "name": "python3"
  },
  "language_info": {
   "codemirror_mode": {
    "name": "ipython",
    "version": 3
   },
   "file_extension": ".py",
   "mimetype": "text/x-python",
   "name": "python",
   "nbconvert_exporter": "python",
   "pygments_lexer": "ipython3",
   "version": "3.6.3"
  }
 },
 "nbformat": 4,
 "nbformat_minor": 2
}
