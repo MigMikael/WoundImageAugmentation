{
 "cells": [
  {
   "cell_type": "code",
   "execution_count": null,
   "metadata": {},
   "outputs": [
    {
     "name": "stdout",
     "output_type": "stream",
     "text": [
      "Thu Feb  1 09:02:29 2018\n"
     ]
    }
   ],
   "source": [
    "from model import ColorCalibrationModel as ccm\n",
    "import time\n",
    "\n",
    "#train_path = \"../Data/train-data-3.txt\"\n",
    "#test_path = \"../Data/test-data-3.txt\"\n",
    "#train_path = \"../Data/s8_motoC/s8_motoC_train_data_12.txt\"\n",
    "#test_path = \"../Data/s8_motoC/s8_motoC_test_data_12.txt\"\n",
    "train_path = \"../Data/iPad_s8/iPad_s8_train_data_2.txt\"\n",
    "test_path = \"../Data/iPad_s8/iPad_s8_test_data_2.txt\"\n",
    "\n",
    "\n",
    "saved_path = \"./saved_model/saved_model_exp_26/\"\n",
    "\n",
    "parameter_path = \"./parameter_set/exp_26/\"\n",
    "name = \"set-\"\n",
    "extension = \".txt\"\n",
    "\n",
    "data_path = '../Output/output_exp_26/'\n",
    "start_time = time.time()\n",
    "start_time_readable = time.ctime(start_time)\n",
    "print(start_time_readable)\n",
    "for i in range(24):\n",
    "    parameter_file_name = name + str(i+1) + extension\n",
    "    \n",
    "    #print(parameter_file_name)\n",
    "\n",
    "    hidden_layers_dim = 0\n",
    "    learning_rate = 0\n",
    "    minibatch_size = 0\n",
    "    num_train_samples_per_sweep = 0\n",
    "    num_test_samples = 0\n",
    "\n",
    "    with open(parameter_path + parameter_file_name, 'r') as datafile:\n",
    "        for line in datafile:\n",
    "            p = line.split('=')\n",
    "            if p[0] == \"hidden_layers_dim\":\n",
    "                hidden_layers_dim = int(p[1])\n",
    "            elif p[0] == \"learning_rate\":\n",
    "                learning_rate = float(p[1])\n",
    "            elif p[0] == \"minibatch_size\":\n",
    "                minibatch_size = int(p[1])\n",
    "            elif p[0] == \"num_train_samples_per_sweep\":\n",
    "                num_train_samples_per_sweep = int(p[1])\n",
    "            elif p[0] == \"num_test_samples\":\n",
    "                num_test_samples = int(p[1])\n",
    "                \n",
    "    result_name = 'result-'+ name + str(i + 1) + \"-\"\n",
    "    file_extension = '.txt'\n",
    "    result_file_name = data_path + result_name + str(time.ctime()) + file_extension\n",
    "\n",
    "    neural_net = ccm(train_path, test_path)\n",
    "    neural_net.start(hidden_layers_dim, learning_rate, minibatch_size, num_train_samples_per_sweep, num_test_samples, result_file_name)\n",
    "    neural_net.save_model(saved_path + \"model-\" + name + str(i + 1) +'.model')\n",
    "    print(\"Finish \"+ parameter_file_name)\n",
    "    \n",
    "end_time = time.time()\n",
    "end_time_readable = time.ctime(end_time)\n",
    "print(end_time_readable)\n",
    "print(\"--- %s seconds ---\" % (end_time - start_time))"
   ]
  },
  {
   "cell_type": "code",
   "execution_count": null,
   "metadata": {
    "collapsed": true
   },
   "outputs": [],
   "source": []
  }
 ],
 "metadata": {
  "kernelspec": {
   "display_name": "Python 3",
   "language": "python",
   "name": "python3"
  },
  "language_info": {
   "codemirror_mode": {
    "name": "ipython",
    "version": 3
   },
   "file_extension": ".py",
   "mimetype": "text/x-python",
   "name": "python",
   "nbconvert_exporter": "python",
   "pygments_lexer": "ipython3",
   "version": "3.6.3"
  }
 },
 "nbformat": 4,
 "nbformat_minor": 2
}
