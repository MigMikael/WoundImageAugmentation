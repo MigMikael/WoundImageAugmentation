{
 "cells": [
  {
   "cell_type": "code",
   "execution_count": 2,
   "metadata": {},
   "outputs": [
    {
     "name": "stdout",
     "output_type": "stream",
     "text": [
      "{(242, 80, 34), (242, 80, 35)}\n"
     ]
    },
    {
     "data": {
      "text/plain": [
       "\"\\nfrom PIL import Image\\nimport numpy as np\\n\\nw, h = 512, 512\\ndata = np.zeros((h, w, 3), dtype=np.uint8)\\ndata[256, 256] = [255, 0, 0]\\nimg = Image.fromarray(data, 'RGB')\\nimg.save('my.png')\\n#img.show()\\n\""
      ]
     },
     "execution_count": 2,
     "metadata": {},
     "output_type": "execute_result"
    }
   ],
   "source": [
    "mylist = [(242, 80, 34), (242, 80, 34), (242, 80, 34), (242, 80, 34), (242, 80, 35)]\n",
    "myset = set(mylist)\n",
    "print(myset)\n",
    "\n",
    "'''\n",
    "from PIL import Image\n",
    "import numpy as np\n",
    "\n",
    "w, h = 512, 512\n",
    "data = np.zeros((h, w, 3), dtype=np.uint8)\n",
    "data[256, 256] = [255, 0, 0]\n",
    "img = Image.fromarray(data, 'RGB')\n",
    "img.save('my.png')\n",
    "#img.show()\n",
    "'''"
   ]
  },
  {
   "cell_type": "code",
   "execution_count": null,
   "metadata": {
    "collapsed": true
   },
   "outputs": [],
   "source": []
  }
 ],
 "metadata": {
  "kernelspec": {
   "display_name": "Python 3",
   "language": "python",
   "name": "python3"
  },
  "language_info": {
   "codemirror_mode": {
    "name": "ipython",
    "version": 3
   },
   "file_extension": ".py",
   "mimetype": "text/x-python",
   "name": "python",
   "nbconvert_exporter": "python",
   "pygments_lexer": "ipython3",
   "version": "3.6.3"
  }
 },
 "nbformat": 4,
 "nbformat_minor": 2
}
