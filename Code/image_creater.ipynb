{
 "cells": [
  {
   "cell_type": "code",
   "execution_count": 10,
   "metadata": {},
   "outputs": [
    {
     "name": "stdout",
     "output_type": "stream",
     "text": [
      "1\n",
      "261\n",
      "244\n",
      "Finish\n"
     ]
    }
   ],
   "source": [
    "import cntk\n",
    "import numpy\n",
    "import cv2\n",
    "from matplotlib import pyplot as plt\n",
    "from PIL import Image\n",
    "\n",
    "def create_reader(path, is_training, input_dim, num_label_classes):\n",
    "    featureStream = cntk.io.StreamDef(field='features', shape=input_dim, is_sparse=False)\n",
    "    deserailizer = cntk.io.CTFDeserializer(path, cntk.io.StreamDefs(features=featureStream))\n",
    "    return cntk.io.MinibatchSource(deserailizer, randomize=is_training, max_sweeps=1, randomization_window_in_chunks=0)\n",
    "\n",
    "def load_model(path):\n",
    "    model = cntk.ops.functions.load_model(path)\n",
    "    return model\n",
    "\n",
    "def predict(model, data):\n",
    "    return model.eval(data)\n",
    "\n",
    "def do_predict(model_path, data_path):\n",
    "    model = load_model(model_path)\n",
    "    reader = create_reader(data_path, False, 3, 3)\n",
    "    input_map = {\n",
    "        input: reader.streams.features\n",
    "    }\n",
    "    data = reader.next_minibatch(63684, input_map=input_map)\n",
    "    \n",
    "    feature_data = data[input].asarray()\n",
    "    #print(\"feature data\",feature_data)\n",
    "    w, h = 261, 244\n",
    "    data = numpy.zeros((h, w, 3), dtype=numpy.uint8)\n",
    "    for index, item in enumerate(feature_data):\n",
    "        #print(index, item)\n",
    "        i = index // 261\n",
    "        j = index % 261\n",
    "        data[i, j] = [item[0][0], item[0][1], item[0][2]]\n",
    "\n",
    "    img = Image.fromarray(data, 'RGB')\n",
    "    img.save('original.png')\n",
    "    \n",
    "    return predict(model, feature_data)\n",
    "\n",
    "model_path = \"./saved_model_exp_1/set-8.model\"\n",
    "data_path = \"./test_rgb_file.txt\"\n",
    "predict_value = do_predict(model_path, data_path)\n",
    "\n",
    "predict_value = predict_value.round()\n",
    "#print(\"predict data \", predict_value)\n",
    "print(len(predict_value))\n",
    "\n",
    "img = Image.new('RGB', (261,244), \"black\") \n",
    "pixels = img.load() \n",
    "\n",
    "print(img.size[0])\n",
    "print(img.size[1])\n",
    "\n",
    "w, h = 261, 244\n",
    "data = numpy.zeros((h, w, 3), dtype=numpy.uint8)\n",
    "for index, item in enumerate(predict_value):\n",
    "    i = index // 261\n",
    "    j = index % 261\n",
    "    data[i, j] = [item[0], item[1], item[2]]\n",
    "    with open(\"predict_value.txt\", 'a') as outfile:\n",
    "                    outfile.write(\"{})R: {}, G: {}, B: {} \\n\".format(index+1, item[0], item[1], item[2]))\n",
    "\n",
    "img = Image.fromarray(data, 'RGB')\n",
    "img.save('my.png')\n",
    "\n",
    "'''\n",
    "for i in range(img.size[0]):    \n",
    "    for j in range(img.size[1]):\n",
    "        index = (j * 261) + i\n",
    "        print(i, j, index)\n",
    "        #pixels[i,j] = (predict_value[index][0], predict_value[index][1], predict_value[index][2]) \n",
    "        #print(pixels[i,j])\n",
    "\n",
    "img.save(\"resultttttttttttt.png\", \"PNG\")\n",
    "'''\n",
    "print(\"Finish\")"
   ]
  },
  {
   "cell_type": "code",
   "execution_count": null,
   "metadata": {
    "collapsed": true
   },
   "outputs": [],
   "source": []
  }
 ],
 "metadata": {
  "kernelspec": {
   "display_name": "Python 3",
   "language": "python",
   "name": "python3"
  },
  "language_info": {
   "codemirror_mode": {
    "name": "ipython",
    "version": 3
   },
   "file_extension": ".py",
   "mimetype": "text/x-python",
   "name": "python",
   "nbconvert_exporter": "python",
   "pygments_lexer": "ipython3",
   "version": "3.6.3"
  }
 },
 "nbformat": 4,
 "nbformat_minor": 2
}
