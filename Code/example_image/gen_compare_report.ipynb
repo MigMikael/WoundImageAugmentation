{
 "cells": [
  {
   "cell_type": "code",
   "execution_count": 182,
   "metadata": {
    "collapsed": true
   },
   "outputs": [],
   "source": [
    "from IPython.display import HTML, display\n",
    "import pdfkit\n",
    "import cv2\n",
    "import numpy as np\n",
    "from yattag import Doc\n",
    "import pdfkit"
   ]
  },
  {
   "cell_type": "code",
   "execution_count": 183,
   "metadata": {
    "collapsed": true
   },
   "outputs": [],
   "source": [
    "def collect_avg_pixel_data(tiny_crop, pixel_list, region):\n",
    "    sum_r, sum_g, sum_b = 0, 0, 0\n",
    "    for k in range(tiny_crop.shape[0]):\n",
    "        for l in range(tiny_crop.shape[1]):\n",
    "            sum_r += tiny_crop[k][l][0]\n",
    "            sum_g += tiny_crop[k][l][1]\n",
    "            sum_b += tiny_crop[k][l][2]\n",
    "    \n",
    "    avg_r = int(round(sum_r / (region * region)))\n",
    "    avg_g = int(round(sum_g / (region * region)))\n",
    "    avg_b = int(round(sum_b / (region * region)))\n",
    "    pixel_list.append([avg_r, avg_g, avg_b])\n",
    "    #print(\" @ \")\n",
    "\n",
    "    return pixel_list"
   ]
  },
  {
   "cell_type": "code",
   "execution_count": 184,
   "metadata": {
    "collapsed": true
   },
   "outputs": [],
   "source": [
    "def cal_avg_pixel_list(pixel_list, avg_pixel_list):\n",
    "    sum_r, sum_g, sum_b = 0, 0, 0\n",
    "    for item in pixel_list:\n",
    "        sum_r += item[0]\n",
    "        sum_g += item[1]\n",
    "        sum_b += item[2]\n",
    "        \n",
    "    avg_r = int(round(sum_r / 9))\n",
    "    avg_g = int(round(sum_g / 9))\n",
    "    avg_b = int(round(sum_b / 9))\n",
    "    avg_pixel_list.append([avg_r, avg_g, avg_b])\n",
    "    \n",
    "    return avg_pixel_list"
   ]
  },
  {
   "cell_type": "code",
   "execution_count": 185,
   "metadata": {
    "collapsed": true
   },
   "outputs": [],
   "source": [
    "def capture_rgb_value(img, start_x, start_y, region, file_name):\n",
    "    avg_pixel_list = []\n",
    "    edit_img = img.copy()\n",
    "    for i in range(6):\n",
    "        for j in range(5):\n",
    "            pixel_list = []\n",
    "            if file_name == \"label_img.jpg\":\n",
    "                indexX, indexY = start_x + 10 + (130 * i), start_y + 10 + (130 * j)\n",
    "            else:\n",
    "                indexX, indexY = start_x + 10 + (160 * i), start_y + 10 + (160 * j)\n",
    "            index_sq1_x, index_sq1_y = indexX, indexY\n",
    "            index_sq2_x, index_sq2_y = indexX + 9, indexY\n",
    "            index_sq3_x, index_sq3_y = indexX + 18, indexY\n",
    "\n",
    "            index_sq4_x, index_sq4_y = indexX, indexY + 9\n",
    "            index_sq5_x, index_sq5_y = indexX + 9, indexY + 9\n",
    "            index_sq6_x, index_sq6_y = indexX + 18, indexY + 9\n",
    "\n",
    "            index_sq7_x, index_sq7_y = indexX, indexY + 18\n",
    "            index_sq8_x, index_sq8_y = indexX + 9, indexY + 18\n",
    "            index_sq9_x, index_sq9_y = indexX + 18, indexY + 18\n",
    "            \n",
    "            cv2.rectangle(edit_img, (index_sq1_x, index_sq1_y), (index_sq1_x + region, index_sq1_y + region),\n",
    "                          (255, 255, 255), 1)\n",
    "            cv2.rectangle(edit_img, (index_sq2_x, index_sq2_y), (index_sq2_x + region, index_sq2_y + region),\n",
    "                          (255, 255, 255), 1)\n",
    "            cv2.rectangle(edit_img, (index_sq3_x, index_sq3_y), (index_sq3_x + region, index_sq3_y + region),\n",
    "                          (255, 255, 255), 1)\n",
    "\n",
    "            cv2.rectangle(edit_img, (index_sq4_x, index_sq4_y), (index_sq4_x + region, index_sq4_y + region),\n",
    "                          (255, 255, 255), 1)\n",
    "            cv2.rectangle(edit_img, (index_sq5_x, index_sq5_y), (index_sq5_x + region, index_sq5_y + region),\n",
    "                          (255, 255, 255), 1)\n",
    "            cv2.rectangle(edit_img, (index_sq6_x, index_sq6_y), (index_sq6_x + region, index_sq6_y + region),\n",
    "                          (255, 255, 255), 1)\n",
    "\n",
    "            cv2.rectangle(edit_img, (index_sq7_x, index_sq7_y), (index_sq7_x + region, index_sq7_y + region),\n",
    "                          (255, 255, 255), 1)\n",
    "            cv2.rectangle(edit_img, (index_sq8_x, index_sq8_y), (index_sq8_x + region, index_sq8_y + region),\n",
    "                          (255, 255, 255), 1)\n",
    "            cv2.rectangle(edit_img, (index_sq9_x, index_sq9_y), (index_sq9_x + region, index_sq9_y + region),\n",
    "                          (255, 255, 255), 1)\n",
    "            \n",
    "            sq1_crop = img[index_sq1_y:index_sq1_y + region, index_sq1_x:index_sq1_x + region]\n",
    "            sq1_crop = cv2.cvtColor(sq1_crop, cv2.COLOR_BGR2RGB)\n",
    "            pixel_list = collect_avg_pixel_data(sq1_crop, pixel_list, region)\n",
    "            \n",
    "            sq2_crop = img[index_sq2_y:index_sq1_y + region, index_sq2_x:index_sq2_x + region]\n",
    "            sq2_crop = cv2.cvtColor(sq2_crop, cv2.COLOR_BGR2RGB)\n",
    "            pixel_list = collect_avg_pixel_data(sq2_crop, pixel_list, region)\n",
    "            \n",
    "            sq3_crop = img[index_sq3_y:index_sq3_y + region, index_sq3_x:index_sq3_x + region]\n",
    "            sq3_crop = cv2.cvtColor(sq3_crop, cv2.COLOR_BGR2RGB)\n",
    "            pixel_list = collect_avg_pixel_data(sq3_crop, pixel_list, region)\n",
    "            \n",
    "            sq4_crop = img[index_sq4_y:index_sq4_y + region, index_sq4_x:index_sq4_x + region]\n",
    "            sq4_crop = cv2.cvtColor(sq4_crop, cv2.COLOR_BGR2RGB)\n",
    "            pixel_list = collect_avg_pixel_data(sq4_crop, pixel_list, region)\n",
    "            \n",
    "            sq5_crop = img[index_sq5_y:index_sq5_y + region, index_sq5_x:index_sq5_x + region]\n",
    "            sq5_crop = cv2.cvtColor(sq5_crop, cv2.COLOR_BGR2RGB)\n",
    "            pixel_list = collect_avg_pixel_data(sq5_crop, pixel_list, region)\n",
    "            \n",
    "            sq6_crop = img[index_sq6_y:index_sq6_y + region, index_sq6_x:index_sq6_x + region]\n",
    "            sq6_crop = cv2.cvtColor(sq6_crop, cv2.COLOR_BGR2RGB)\n",
    "            pixel_list = collect_avg_pixel_data(sq6_crop, pixel_list, region)\n",
    "            \n",
    "            sq7_crop = img[index_sq7_y:index_sq7_y + region, index_sq7_x:index_sq7_x + region]\n",
    "            sq7_crop = cv2.cvtColor(sq7_crop, cv2.COLOR_BGR2RGB)\n",
    "            pixel_list = collect_avg_pixel_data(sq7_crop, pixel_list, region)\n",
    "            \n",
    "            sq8_crop = img[index_sq8_y:index_sq8_y + region, index_sq8_x:index_sq8_x + region]\n",
    "            sq8_crop = cv2.cvtColor(sq8_crop, cv2.COLOR_BGR2RGB)\n",
    "            pixel_list = collect_avg_pixel_data(sq8_crop, pixel_list, region)\n",
    "            \n",
    "            sq9_crop = img[index_sq9_y:index_sq9_y + region, index_sq9_x:index_sq9_x + region]\n",
    "            sq9_crop = cv2.cvtColor(sq9_crop, cv2.COLOR_BGR2RGB)\n",
    "            pixel_list = collect_avg_pixel_data(sq9_crop, pixel_list, region)\n",
    "            \n",
    "            avg_pixel_list = cal_avg_pixel_list(pixel_list, avg_pixel_list)\n",
    "            \n",
    "    cv2.imwrite(file_name, edit_img)\n",
    "    #print(avg_pixel_list)\n",
    "    print(\"Finish collect RGB from :\", file_name)\n",
    "    return avg_pixel_list"
   ]
  },
  {
   "cell_type": "code",
   "execution_count": 186,
   "metadata": {
    "collapsed": true
   },
   "outputs": [],
   "source": [
    "def save_tiny_img(pixel_list, flag):\n",
    "    for idx, color in enumerate(pixel_list):\n",
    "        #print(color)\n",
    "        tiny_image = np.zeros((height,width,3), np.uint8)\n",
    "        tiny_image[:, 0:width] = (color[2], color[1], color[0])  # B G R\n",
    "        cv2.imwrite(\"./img_for_report/\" + flag + \"_\" + str(idx + 1) + \".jpg\", tiny_image)"
   ]
  },
  {
   "cell_type": "code",
   "execution_count": 187,
   "metadata": {},
   "outputs": [],
   "source": [
    "def gen_html_file(html_file_name, scope):\n",
    "    doc, tag, text = Doc().tagtext()\n",
    "\n",
    "    doc.asis('<!DOCTYPE html>')\n",
    "    with tag('html'):\n",
    "        with tag('body'):\n",
    "            with tag('h1'):\n",
    "                text(html_file_name)\n",
    "            with tag('table' , border=\"1\"):\n",
    "                with tag('thead'):\n",
    "                    with tag('tr'):\n",
    "                        with tag('th'):\n",
    "                            text('No.')\n",
    "                        with tag('th'):\n",
    "                            text('Feature')\n",
    "                        with tag('th'):\n",
    "                            text(\"Nan\")\n",
    "                        with tag('th'):\n",
    "                            text('Predict')\n",
    "                        with tag('th'):\n",
    "                            text('Label')\n",
    "                        with tag('th'):\n",
    "                            text('R')\n",
    "                        with tag('th'):\n",
    "                            text('R - Diff')\n",
    "                        with tag('th'):\n",
    "                            text('G')\n",
    "                        with tag('th'):\n",
    "                            text('G - Diff')\n",
    "                        with tag('th'):\n",
    "                            text('B')\n",
    "                        with tag('th'):\n",
    "                            text('B - Diff')\n",
    "                        with tag('th'):\n",
    "                            text('All Better')\n",
    "                with tag('tbody'):\n",
    "                    for i in range(scope):\n",
    "                        is_all = True\n",
    "                        with tag('tr'):\n",
    "                            with tag('td'):\n",
    "                                text(str(i+1) + \".\")\n",
    "                            with tag('td'):\n",
    "                                doc.stag('img', src='./img_for_report/feature_'+str(i+1)+'.jpg', klass=\"thumbnail\")\n",
    "                            with tag('td'):\n",
    "                                doc.stag('img', src='./img_for_report/nan_'+str(i+1)+'.jpg', klass=\"thumbnail\")\n",
    "                            with tag('td'):\n",
    "                                doc.stag('img', src='./img_for_report/create_'+str(i+1)+'.jpg', klass=\"thumbnail\")\n",
    "                            with tag('td'):\n",
    "                                doc.stag('img', src='./img_for_report/label_'+str(i+1)+'.jpg', klass=\"thumbnail\")\n",
    "                            with tag('td'):\n",
    "                                text(\"Label : \" + str(label_pixel_list[i][0]))\n",
    "                                doc.stag('br')\n",
    "                                text(\"Nann : \" + str(nan_pixel_list[i][0]))\n",
    "                                doc.stag('br')\n",
    "                                text(\"Predi : \" + str(create_pixel_list[i][0]))\n",
    "                                doc.stag('br')\n",
    "                                text(\"Feat  : \" + str(feature_pixel_list[i][0]))\n",
    "                                doc.stag('br')\n",
    "                            with tag('td'):\n",
    "                                diff_nan = abs(label_pixel_list[i][0] - nan_pixel_list[i][0])\n",
    "                                diff_create = abs(label_pixel_list[i][0] - create_pixel_list[i][0])\n",
    "                                if diff_create < diff_nan:\n",
    "                                    text(\"Label - Nann : \" + str(diff_nan))\n",
    "                                    doc.stag('br')\n",
    "                                    with tag('b'):\n",
    "                                        text(\"Label - Predi : \" + str(diff_create))\n",
    "                                    doc.stag('br')\n",
    "                                else:\n",
    "                                    is_all = False\n",
    "                                    text(\"Label - Nann : \" + str(diff_nan))\n",
    "                                    doc.stag('br')\n",
    "                                    text(\"Label - Predi : \" + str(diff_create))\n",
    "                                    doc.stag('br')\n",
    "                            with tag('td'):\n",
    "                                text(\"Label : \" + str(label_pixel_list[i][1]))\n",
    "                                doc.stag('br')\n",
    "                                text(\"Nann : \" + str(nan_pixel_list[i][1]))\n",
    "                                doc.stag('br')\n",
    "                                text(\"Predi : \" + str(create_pixel_list[i][1]))\n",
    "                                doc.stag('br')\n",
    "                                text(\"Feat  : \" + str(feature_pixel_list[i][1]))\n",
    "                                doc.stag('br')\n",
    "                            with tag('td'):\n",
    "                                diff_nan = abs(label_pixel_list[i][1] - nan_pixel_list[i][1])\n",
    "                                diff_create = abs(label_pixel_list[i][1] - create_pixel_list[i][1])\n",
    "                                if diff_create < diff_nan:\n",
    "                                    text(\"Label - Nann : \" + str(diff_nan))\n",
    "                                    doc.stag('br')\n",
    "                                    with tag('b'):\n",
    "                                        text(\"Label - Predi : \" + str(diff_create))\n",
    "                                    doc.stag('br')\n",
    "                                else:\n",
    "                                    is_all = False\n",
    "                                    text(\"Label - Nann : \" + str(diff_nan))\n",
    "                                    doc.stag('br')\n",
    "                                    text(\"Label - Predi : \" + str(diff_create))\n",
    "                                    doc.stag('br')\n",
    "                            with tag('td'):\n",
    "                                text(\"Label : \" + str(label_pixel_list[i][2]))\n",
    "                                doc.stag('br')\n",
    "                                text(\"Nann : \" + str(nan_pixel_list[i][2]))\n",
    "                                doc.stag('br')\n",
    "                                text(\"Predi : \" + str(create_pixel_list[i][2]))\n",
    "                                doc.stag('br')\n",
    "                                text(\"Feat  : \" + str(feature_pixel_list[i][2]))\n",
    "                                doc.stag('br')\n",
    "                            with tag('td'):\n",
    "                                diff_nan = abs(label_pixel_list[i][2] - nan_pixel_list[i][2])\n",
    "                                diff_create = abs(label_pixel_list[i][2] - create_pixel_list[i][2])\n",
    "                                if diff_create < diff_nan:\n",
    "                                    text(\"Label - Nann : \" + str(diff_nan))\n",
    "                                    doc.stag('br')\n",
    "                                    with tag('b'):\n",
    "                                        text(\"Label - Predi : \" + str(diff_create))\n",
    "                                    doc.stag('br')\n",
    "                                else:\n",
    "                                    is_all = False\n",
    "                                    text(\"Label - Nann : \" + str(diff_nan))\n",
    "                                    doc.stag('br')\n",
    "                                    text(\"Label - Predi : \" + str(diff_create))\n",
    "                                    doc.stag('br')\n",
    "                            with tag('td'):\n",
    "                                if is_all:\n",
    "                                    text(\"True\")\n",
    "                                else:\n",
    "                                    text(\"False\")\n",
    "\n",
    "    html_text = doc.getvalue()\n",
    "    with open(html_file_name, 'w') as report_file:\n",
    "        report_file.write(html_text)"
   ]
  },
  {
   "cell_type": "code",
   "execution_count": 188,
   "metadata": {},
   "outputs": [
    {
     "data": {
      "text/html": [
       "<table><tr><td>Galaxy S8+<img src='./TheTwo(S8+)_resize.jpg'></td><td>P' Nan<img src='./iPad_s8_augmented_img/TheTwo(S8+)_resize_Nannnnn.jpg'></td><td>iPad Mini 4<img src='./TheTwo(iPad)_resize.jpg'></td></tr></table>"
      ],
      "text/plain": [
       "<IPython.core.display.HTML object>"
      ]
     },
     "metadata": {},
     "output_type": "display_data"
    },
    {
     "data": {
      "text/html": [
       "<table><tr><td>Galaxy S8+<img src='./TheTwo(S8+)_resize.jpg'></td><td>Mine<img src='./iPad_s8_augmented_img/TheTwo(S8+)_resize_Edited_By_exp-27_model-15(Avg).jpg'></td><td>iPad Mini 4<img src='./TheTwo(iPad)_resize.jpg'></td></tr></table>"
      ],
      "text/plain": [
       "<IPython.core.display.HTML object>"
      ]
     },
     "metadata": {},
     "output_type": "display_data"
    }
   ],
   "source": [
    "feature_img = \"./TheTwo(S8+)_resize.jpg\"\n",
    "label_img = \"./TheTwo(iPad)_resize.jpg\"\n",
    "nan_img = \"./iPad_s8_augmented_img/TheTwo(S8+)_resize_Nannnnn.jpg\"\n",
    "my_own_img = \"./iPad_s8_augmented_img/TheTwo(S8+)_resize_Edited_By_exp-27_model-15(Avg).jpg\"\n",
    "\n",
    "display(HTML(\"<table><tr><td>Galaxy S8+<img src='\"+ feature_img +\"'></td><td>P' Nan<img src='\"+ nan_img +\"'></td><td>iPad Mini 4<img src='\"+ label_img +\"'></td></tr></table>\"))\n",
    "display(HTML(\"<table><tr><td>Galaxy S8+<img src='\"+ feature_img +\"'></td><td>Mine<img src='\"+ my_own_img +\"'></td><td>iPad Mini 4<img src='\"+ label_img +\"'></td></tr></table>\"))"
   ]
  },
  {
   "cell_type": "code",
   "execution_count": 189,
   "metadata": {
    "collapsed": true
   },
   "outputs": [],
   "source": [
    "report_name = \"compare_report_TheTwo_iPad_s8\"\n",
    "\n",
    "label_img_path = \"TheTwo(iPad)_resize.jpg\"\n",
    "feature_img_path = \"TheTwo(S8+)_resize.jpg\"\n",
    "created_img_path = \"./iPad_s8_augmented_img/TheTwo(S8+)_resize_Edited_By_exp-27_model-15(Avg).jpg\"\n",
    "nan_img_path = \"./iPad_s8_augmented_img/TheTwo(S8+)_resize_Nannnnn.jpg\"\n",
    "\n",
    "html_file_name = report_name + \".html\"\n",
    "report_file_name = report_name + \".pdf\""
   ]
  },
  {
   "cell_type": "code",
   "execution_count": 190,
   "metadata": {},
   "outputs": [
    {
     "name": "stdout",
     "output_type": "stream",
     "text": [
      "Finish collect RGB from : label_img.jpg\n",
      "Finish collect RGB from : feature_img.jpg\n",
      "Finish collect RGB from : created_img.jpg\n",
      "Finish collect RGB from : nan_img.jpg\n"
     ]
    }
   ],
   "source": [
    "label_img = cv2.imread(label_img_path)\n",
    "feature_img = cv2.imread(feature_img_path)\n",
    "created_img = cv2.imread(created_img_path)\n",
    "nan_img = cv2.imread(nan_img_path)\n",
    "\n",
    "region = 7\n",
    "index_sq1_x, index_sq1_y = 250, 370\n",
    "index_sq2_x, index_sq2_y = 250, 410\n",
    "height, width = 70, 70\n",
    "\n",
    "output_name = \"label_img.jpg\"\n",
    "label_pixel_list = capture_rgb_value(label_img, index_sq2_x, index_sq2_y, region, output_name)\n",
    "save_tiny_img(label_pixel_list, \"label\")\n",
    "\n",
    "output_name = \"feature_img.jpg\"\n",
    "feature_pixel_list = capture_rgb_value(feature_img, index_sq1_x, index_sq1_y, region, output_name)\n",
    "save_tiny_img(feature_pixel_list, \"feature\")\n",
    "\n",
    "output_name = \"created_img.jpg\"\n",
    "create_pixel_list = capture_rgb_value(created_img, index_sq1_x, index_sq1_y, region, output_name)\n",
    "save_tiny_img(create_pixel_list, \"create\")\n",
    "\n",
    "output_name = \"nan_img.jpg\"\n",
    "nan_pixel_list = capture_rgb_value(nan_img, index_sq1_x, index_sq1_y, region, output_name)\n",
    "save_tiny_img(nan_pixel_list, \"nan\")\n",
    "\n",
    "gen_html_file(html_file_name, 15)"
   ]
  },
  {
   "cell_type": "code",
   "execution_count": 191,
   "metadata": {},
   "outputs": [
    {
     "data": {
      "text/html": [
       "<table><tr><td>Galaxy S8+<img src='feature_img.jpg'></td><td>P' Nan<img src='nan_img.jpg'></td><td>iPad Mini 4<img src='label_img.jpg'></td></tr></table>"
      ],
      "text/plain": [
       "<IPython.core.display.HTML object>"
      ]
     },
     "metadata": {},
     "output_type": "display_data"
    },
    {
     "data": {
      "text/html": [
       "<table><tr><td>Galaxy S8+<img src='feature_img.jpg'></td><td>Mine<img src='created_img.jpg'></td><td>iPad Mini 4<img src='label_img.jpg'></td></tr></table>"
      ],
      "text/plain": [
       "<IPython.core.display.HTML object>"
      ]
     },
     "metadata": {},
     "output_type": "display_data"
    }
   ],
   "source": [
    "feature_img = \"feature_img.jpg\"\n",
    "label_img = \"label_img.jpg\"\n",
    "nan_img = \"nan_img.jpg\"\n",
    "my_own_img = \"created_img.jpg\"\n",
    "\n",
    "display(HTML(\"<table><tr><td>Galaxy S8+<img src='\"+ feature_img +\"'></td><td>P' Nan<img src='\"+ nan_img +\"'></td><td>iPad Mini 4<img src='\"+ label_img +\"'></td></tr></table>\"))\n",
    "display(HTML(\"<table><tr><td>Galaxy S8+<img src='\"+ feature_img +\"'></td><td>Mine<img src='\"+ my_own_img +\"'></td><td>iPad Mini 4<img src='\"+ label_img +\"'></td></tr></table>\"))"
   ]
  },
  {
   "cell_type": "code",
   "execution_count": null,
   "metadata": {
    "collapsed": true
   },
   "outputs": [],
   "source": []
  }
 ],
 "metadata": {
  "kernelspec": {
   "display_name": "Python 3",
   "language": "python",
   "name": "python3"
  },
  "language_info": {
   "codemirror_mode": {
    "name": "ipython",
    "version": 3
   },
   "file_extension": ".py",
   "mimetype": "text/x-python",
   "name": "python",
   "nbconvert_exporter": "python",
   "pygments_lexer": "ipython3",
   "version": "3.6.3"
  }
 },
 "nbformat": 4,
 "nbformat_minor": 2
}
