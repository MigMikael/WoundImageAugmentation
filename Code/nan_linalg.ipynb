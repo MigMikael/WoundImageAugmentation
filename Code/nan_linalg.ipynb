{
 "cells": [
  {
   "cell_type": "code",
   "execution_count": 1,
   "metadata": {
    "collapsed": true
   },
   "outputs": [],
   "source": [
    "import numpy as np\n",
    "import scipy as sp"
   ]
  },
  {
   "cell_type": "code",
   "execution_count": 2,
   "metadata": {},
   "outputs": [
    {
     "name": "stdout",
     "output_type": "stream",
     "text": [
      "[[1 1 2 3]\n",
      " [1 4 5 6]\n",
      " [1 7 8 9]]\n"
     ]
    }
   ],
   "source": [
    "a = np.array([[1, 1, 2, 3], [1, 4, 5, 6], [1, 7, 8, 9]])\n",
    "print(a)"
   ]
  },
  {
   "cell_type": "code",
   "execution_count": 3,
   "metadata": {},
   "outputs": [
    {
     "name": "stdout",
     "output_type": "stream",
     "text": [
      "[[1 1 1]\n",
      " [1 4 7]\n",
      " [2 5 8]\n",
      " [3 6 9]]\n"
     ]
    }
   ],
   "source": [
    "at = a.transpose()\n",
    "print(at)"
   ]
  },
  {
   "cell_type": "code",
   "execution_count": 4,
   "metadata": {},
   "outputs": [
    {
     "name": "stdout",
     "output_type": "stream",
     "text": [
      "inverse = \n",
      "[[ -2.90004521e+14   5.80009043e+14  -2.90004521e+14]\n",
      " [  5.80009043e+14  -1.16001809e+15   5.80009043e+14]\n",
      " [ -2.90004521e+14   5.80009043e+14  -2.90004521e+14]]\n",
      "inv * amul = \n",
      "[[ -4.35006782e+15   1.91402984e+16  -1.47902306e+16]\n",
      " [  1.91402984e+16  -9.04814107e+16   7.13411123e+16]\n",
      " [ -1.47902306e+16   7.13411123e+16  -5.65508817e+16]]\n"
     ]
    }
   ],
   "source": [
    "amul = np.matmul(a, at)\n",
    "amulinv = np.linalg.inv(amul)\n",
    "print('inverse = ')\n",
    "print(amulinv)\n",
    "print('inv * amul = ')\n",
    "print(amulinv * amul)"
   ]
  },
  {
   "cell_type": "code",
   "execution_count": 5,
   "metadata": {},
   "outputs": [
    {
     "name": "stdout",
     "output_type": "stream",
     "text": [
      "inverse = \n",
      "[[ 0.46296296  0.12962963 -0.2037037 ]\n",
      " [ 0.12962963  0.03703704 -0.05555556]\n",
      " [-0.2037037  -0.05555556  0.09259259]]\n",
      "pinv * amul = \n",
      "[[  6.94444444   4.27777778 -10.38888889]\n",
      " [  4.27777778   2.88888889  -6.83333333]\n",
      " [-10.38888889  -6.83333333  18.05555556]]\n"
     ]
    }
   ],
   "source": [
    "amulpinv = np.linalg.pinv(amul)\n",
    "print('inverse = ')\n",
    "print(amulpinv)\n",
    "print('pinv * amul = ')\n",
    "print(amulpinv * amul)"
   ]
  },
  {
   "cell_type": "code",
   "execution_count": 6,
   "metadata": {},
   "outputs": [
    {
     "name": "stdout",
     "output_type": "stream",
     "text": [
      "X = \n",
      "[[1 1 2 3]\n",
      " [1 4 5 6]\n",
      " [1 7 8 9]]\n",
      "Xt = \n",
      "[[1 1 1]\n",
      " [1 4 7]\n",
      " [2 5 8]\n",
      " [3 6 9]]\n",
      "Y = \n",
      "[[1 0 3]\n",
      " [2 3 4]\n",
      " [3 1 3]]\n"
     ]
    }
   ],
   "source": [
    "X = a # original value\n",
    "Xt = at\n",
    "print('X = ')\n",
    "print(X)\n",
    "print('Xt = ')\n",
    "print(Xt)\n",
    "Y = np.array([[1, 0, 3], [2, 3, 4], [3, 1, 3]])\n",
    "print('Y = ')\n",
    "print(Y) # target value"
   ]
  },
  {
   "cell_type": "code",
   "execution_count": 7,
   "metadata": {},
   "outputs": [
    {
     "name": "stdout",
     "output_type": "stream",
     "text": [
      "[[  1.11111111e-01   1.66666667e-01   1.11111111e+00]\n",
      " [  2.99760217e-15  -1.11111111e-01  -1.11111111e+00]\n",
      " [  1.11111111e-01   5.55555556e-02  -1.31665512e-15]\n",
      " [  2.22222222e-01   2.22222222e-01   1.11111111e+00]]\n"
     ]
    }
   ],
   "source": [
    "# Find w = (XtX)^-1 Xt Y\n",
    "prefix = np.matmul(Xt, X)\n",
    "prefix_inv = np.linalg.pinv(prefix)\n",
    "w = np.matmul(prefix_inv, np.matmul(Xt, Y))\n",
    "print(w)"
   ]
  },
  {
   "cell_type": "code",
   "execution_count": 8,
   "metadata": {},
   "outputs": [
    {
     "data": {
      "text/plain": [
       "array([[ 1.        ,  0.83333333,  3.33333333],\n",
       "       [ 2.        ,  1.33333333,  3.33333333],\n",
       "       [ 3.        ,  1.83333333,  3.33333333]])"
      ]
     },
     "execution_count": 8,
     "metadata": {},
     "output_type": "execute_result"
    }
   ],
   "source": [
    "np.matmul(X, w)"
   ]
  },
  {
   "cell_type": "code",
   "execution_count": null,
   "metadata": {
    "collapsed": true
   },
   "outputs": [],
   "source": []
  }
 ],
 "metadata": {
  "kernelspec": {
   "display_name": "Python 3",
   "language": "python",
   "name": "python3"
  },
  "language_info": {
   "codemirror_mode": {
    "name": "ipython",
    "version": 3
   },
   "file_extension": ".py",
   "mimetype": "text/x-python",
   "name": "python",
   "nbconvert_exporter": "python",
   "pygments_lexer": "ipython3",
   "version": "3.6.3"
  }
 },
 "nbformat": 4,
 "nbformat_minor": 2
}
