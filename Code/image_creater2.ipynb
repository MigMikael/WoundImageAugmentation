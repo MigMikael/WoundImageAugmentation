{
 "cells": [
  {
   "cell_type": "code",
   "execution_count": 36,
   "metadata": {},
   "outputs": [
    {
     "name": "stdout",
     "output_type": "stream",
     "text": [
      "Finish Convert Image\n",
      "Finish Prediction\n",
      "54.0\n",
      "Finish Write Image\n"
     ]
    }
   ],
   "source": [
    "import cntk\n",
    "import numpy\n",
    "import cv2\n",
    "from matplotlib import pyplot as plt\n",
    "from PIL import Image\n",
    "\n",
    "def create_reader(path, is_training, input_dim, num_label_classes):\n",
    "    featureStream = cntk.io.StreamDef(field='features', shape=input_dim, is_sparse=False)\n",
    "    deserailizer = cntk.io.CTFDeserializer(path, cntk.io.StreamDefs(features=featureStream))\n",
    "    return cntk.io.MinibatchSource(deserailizer, randomize=is_training, max_sweeps=1, randomization_window_in_chunks=0)\n",
    "\n",
    "def load_model(path):\n",
    "    model = cntk.ops.functions.load_model(path)\n",
    "    return model\n",
    "\n",
    "def predict(model, data):\n",
    "    return model.eval(data)\n",
    "\n",
    "def do_predict(model_path, data_path, len_data):\n",
    "    model = load_model(model_path)\n",
    "    reader = create_reader(data_path, False, 3, 3)\n",
    "    input_map = {\n",
    "        input: reader.streams.features\n",
    "    }\n",
    "    data = reader.next_minibatch(len_data, input_map=input_map)\n",
    "    \n",
    "    feature_data = data[input].asarray()\n",
    "    print(\"Finish Prediction\")\n",
    "    return predict(model, feature_data)\n",
    "\n",
    "def img_to_txt(path):\n",
    "    img = Image.open(path)\n",
    "    pixel_list = []\n",
    "    for i in range(img.size[0]):    \n",
    "        for j in range(img.size[1]):\n",
    "            pixel_list.append(img.getpixel((i,j)))\n",
    "            \n",
    "    pixel_set = set(pixel_list)\n",
    "    count = 1\n",
    "    with open(\"image_rgb_file.txt\", 'w') as outfile:\n",
    "        for p in pixel_set:\n",
    "            outfile.write(\"|no \" + str(count) + \"|features \" + str(p[0]) + \" \" + str(p[1]) + \" \" + str(p[2]) + \"\\n\")\n",
    "            count+=1\n",
    "    print(\"Finish Convert Image\")\n",
    "    \n",
    "    return pixel_set, len(pixel_set)\n",
    "\n",
    "def data_to_img(predict_value, pixel_set, image_path, img_name):\n",
    "    i = 0\n",
    "    combined_dict = {}\n",
    "    for e in pixel_set:\n",
    "        #print(e, predict_value[i])\n",
    "        combined_dict[e] = predict_value[i]\n",
    "        i+=1\n",
    "        \n",
    "    #print(combined_dict[(0, 168, 246)][0])\n",
    "    #print(type(combined_dict[(0, 168, 246)]))\n",
    "    \n",
    "    img = Image.open(image_path)\n",
    "    pixels = img.load()\n",
    "    \n",
    "    for i in range(img.size[0]):    \n",
    "        for j in range(img.size[1]):\n",
    "            key = img.getpixel((i,j))\n",
    "            #print(img.getpixel((i,j)), \"=>\" ,combined_dict[key])\n",
    "            pixels[i,j] = (combined_dict[key][0], combined_dict[key][1], combined_dict[key][2])\n",
    "            \n",
    "    img.save(img_name)\n",
    "    print(\"Finish Write Image\")\n",
    "    \n",
    "def create_img(model_path, image_path):\n",
    "    pixel_set, len_data = img_to_txt(image_path)\n",
    "    data_path = \"image_rgb_file.txt\"\n",
    "    predict_value = do_predict(model_path, data_path, len_data)\n",
    "    predict_value = predict_value.round()\n",
    "    data_to_img(predict_value, pixel_set, image_path, \"output.png\")\n",
    "    \n",
    "image_path = \"Microsoft-Logo-3-small.jpg\"\n",
    "model_path = \"./saved_model_exp_1/set-8.model\"\n",
    "create_img(model_path, image_path)"
   ]
  },
  {
   "cell_type": "code",
   "execution_count": null,
   "metadata": {
    "collapsed": true
   },
   "outputs": [],
   "source": []
  }
 ],
 "metadata": {
  "kernelspec": {
   "display_name": "Python 3",
   "language": "python",
   "name": "python3"
  },
  "language_info": {
   "codemirror_mode": {
    "name": "ipython",
    "version": 3
   },
   "file_extension": ".py",
   "mimetype": "text/x-python",
   "name": "python",
   "nbconvert_exporter": "python",
   "pygments_lexer": "ipython3",
   "version": "3.6.3"
  }
 },
 "nbformat": 4,
 "nbformat_minor": 2
}
