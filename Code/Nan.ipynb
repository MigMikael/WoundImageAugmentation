{
 "cells": [
  {
   "cell_type": "code",
   "execution_count": 1,
   "metadata": {
    "collapsed": true
   },
   "outputs": [],
   "source": [
    "import numpy as np\n",
    "import scipy as sp"
   ]
  },
  {
   "cell_type": "code",
   "execution_count": 25,
   "metadata": {},
   "outputs": [
    {
     "name": "stdout",
     "output_type": "stream",
     "text": [
      "11847024\n",
      "11847024\n"
     ]
    }
   ],
   "source": [
    "data_path = \"../Data/iPad_s8/iPad_s8_train_data_3.txt\"\n",
    "\n",
    "label_arr = []\n",
    "feature_arr = []\n",
    "\n",
    "with open(data_path, 'r') as data_file:\n",
    "        for line in data_file:\n",
    "            value = line.split('|')\n",
    "            \n",
    "            label_line = value[1]\n",
    "            label_rgb = label_line.split(' ')\n",
    "            label_arr.append([int(label_rgb[1]), int(label_rgb[2]), int(label_rgb[3])])\n",
    "            \n",
    "            feature_line = value[2]\n",
    "            feature_rgb = feature_line.split(' ')\n",
    "            feature_arr.append([1, int(feature_rgb[1]), int(feature_rgb[2]), int(feature_rgb[3].replace('\\n', ''))])\n",
    "            \n",
    "#print(label_arr[:10])\n",
    "print(len(label_arr))\n",
    "\n",
    "#print(feature_arr[:10])\n",
    "print(len(feature_arr))"
   ]
  },
  {
   "cell_type": "code",
   "execution_count": 26,
   "metadata": {},
   "outputs": [],
   "source": [
    "x = np.array(feature_arr) # target value => S8\n",
    "#print(\"x : \", x[:10])\n",
    "xt = x.transpose()\n",
    "#print(\"xt : \", xt[:10])\n",
    "\n",
    "y = np.array(label_arr) # original value => iPad Mini 4\n",
    "#print(\"y : \", y[:10])"
   ]
  },
  {
   "cell_type": "code",
   "execution_count": 27,
   "metadata": {},
   "outputs": [
    {
     "name": "stdout",
     "output_type": "stream",
     "text": [
      "[[ -4.19177110e+00  -1.88891061e+00  -2.94830842e-02]\n",
      " [  9.09799628e-01   5.31777804e-02  -1.35308044e-02]\n",
      " [ -5.29412699e-02   8.65753128e-01   1.88806811e-02]\n",
      " [ -1.14148538e-03  -5.45939643e-02   7.91649258e-01]]\n"
     ]
    }
   ],
   "source": [
    "# Find w = (XtX)^-1 Xt Y\n",
    "prefix = np.matmul(xt, x)\n",
    "prefix_inv = np.linalg.pinv(prefix)\n",
    "w = np.matmul(prefix_inv, np.matmul(xt, y))\n",
    "print(w)"
   ]
  },
  {
   "cell_type": "code",
   "execution_count": 28,
   "metadata": {},
   "outputs": [
    {
     "data": {
      "text/plain": [
       "array([[  30.40484047,   91.21372668,  142.46535772],\n",
       "       [  48.62137087,  142.96221838,   75.86463836],\n",
       "       [ 108.0045137 ,  134.4077601 ,  161.14274047],\n",
       "       ..., \n",
       "       [  42.8812287 ,   82.17112787,  132.56309799],\n",
       "       [  43.85875762,  142.67307857,  113.98809883],\n",
       "       [ 124.27045853,  136.87809054,  164.10354439]])"
      ]
     },
     "execution_count": 28,
     "metadata": {},
     "output_type": "execute_result"
    }
   ],
   "source": [
    "np.matmul(x, w)"
   ]
  },
  {
   "cell_type": "code",
   "execution_count": 41,
   "metadata": {},
   "outputs": [],
   "source": [
    "from PIL import Image\n",
    "\n",
    "image_path = \"./example_image/Arm(S8+)_resize.jpg\"\n",
    "img = Image.open(image_path)\n",
    "pixel_list = []\n",
    "for i in range(img.size[0]):    \n",
    "        for j in range(img.size[1]):\n",
    "            pixel_list.append(img.getpixel((i,j)))\n",
    "            #print(\"R : \", img.getpixel((i,j))[0])\n",
    "\n",
    "#print(pixel_list[:10])\n",
    "#print(len(pixel_list))\n",
    "\n",
    "pixel_set = set(pixel_list)\n",
    "original_value = list(pixel_set)\n",
    "#print(original_value[:10])\n",
    "#print(len(original_value))\n",
    "\n",
    "original_unique_value = []\n",
    "for point in original_value:\n",
    "    original_unique_value.append([1, point[0], point[1], point[2]])\n",
    "\n",
    "original_value_arr = np.array(original_unique_value)\n",
    "#print(original_value_arr[:10])\n"
   ]
  },
  {
   "cell_type": "code",
   "execution_count": 42,
   "metadata": {},
   "outputs": [
    {
     "name": "stdout",
     "output_type": "stream",
     "text": [
      "[[  75.01930921   84.55469707   74.22360125]\n",
      " [  90.54336771   95.71390185  114.63736917]\n",
      " [ 181.11502136  165.89515548  131.28973171]\n",
      " ..., \n",
      " [  48.43615336   55.08514756   88.30744172]\n",
      " [ 139.55481731  103.1481441    85.46397448]\n",
      " [ 139.61703891  142.23556698  137.01408797]]\n",
      "57721\n"
     ]
    }
   ],
   "source": [
    "predict_arr = np.matmul(original_value_arr, w)\n",
    "print(predict_arr)\n",
    "print(len(predict_arr))"
   ]
  },
  {
   "cell_type": "code",
   "execution_count": 43,
   "metadata": {},
   "outputs": [
    {
     "name": "stdout",
     "output_type": "stream",
     "text": [
      "(93, 100, 93)  =>  [ 75.01930921  84.55469707  74.22360125]\n",
      "(111, 115, 144)  =>  [  90.54336771   95.71390185  114.63736917]\n",
      "(215, 191, 165)  =>  [ 181.11502136  165.89515548  131.28973171]\n",
      "(216, 217, 211)  =>  [ 180.59583964  185.94659222  168.1829645 ]\n",
      "(32, 28, 42)  =>  [ 23.39151906  21.76091944  33.3154591 ]\n",
      "(73, 42, 40)  =>  [ 59.95440902  36.17094016  31.44172714]\n"
     ]
    }
   ],
   "source": [
    "combined_dict = {}\n",
    "i = 0\n",
    "for e in original_value:\n",
    "    combined_dict[e] = predict_arr[i]\n",
    "    i += 1\n",
    "\n",
    "i = 0\n",
    "for key in combined_dict:\n",
    "    print(key , \" => \", combined_dict[key])\n",
    "    i+=1\n",
    "    if i > 5:\n",
    "        break"
   ]
  },
  {
   "cell_type": "code",
   "execution_count": 44,
   "metadata": {},
   "outputs": [
    {
     "name": "stdout",
     "output_type": "stream",
     "text": [
      "Finish Write Image\n"
     ]
    }
   ],
   "source": [
    "def correct_range(pixel_value):\n",
    "    if pixel_value < 0:\n",
    "        pixel_value = 0\n",
    "        \n",
    "    if pixel_value > 255:\n",
    "        pixel_value = 255\n",
    "        \n",
    "    return pixel_value\n",
    "\n",
    "img = Image.open(image_path)\n",
    "pixels = img.load()\n",
    "for i in range(img.size[0]):    \n",
    "        for j in range(img.size[1]):\n",
    "            key = img.getpixel((i,j))\n",
    "            R = int(combined_dict[key][0])\n",
    "            G = int(combined_dict[key][1])\n",
    "            B = int(combined_dict[key][2])\n",
    "            \n",
    "            R = correct_range(R)\n",
    "            G = correct_range(G)\n",
    "            B = correct_range(B)\n",
    "            \n",
    "            pixels[i,j] = (R, G, B)\n",
    "            \n",
    "img.save(\"./example_image/iPad_s8_augmented_img/Arm(S8+)_resize_Nannnnn.jpg\")\n",
    "print(\"Finish Write Image\")"
   ]
  },
  {
   "cell_type": "code",
   "execution_count": 59,
   "metadata": {},
   "outputs": [
    {
     "data": {
      "text/html": [
       "<table><tr><td>Galaxy S8+<img src='./example_image/Arm(S8+)_resize.jpg'></td><td>P' Nan<img src='./example_image/iPad_s8_augmented_img/Arm(S8+)_resize_Nannnnn.jpg'></td><td>iPad Mini 4<img src='./example_image/Arm(iPad)_resize.jpg'></td></tr></table>"
      ],
      "text/plain": [
       "<IPython.core.display.HTML object>"
      ]
     },
     "metadata": {},
     "output_type": "display_data"
    },
    {
     "data": {
      "text/html": [
       "<table><tr><td>Galaxy S8+<img src='./example_image/Arm(S8+)_resize.jpg'></td><td>Mine<img src='./example_image/iPad_s8_augmented_img/Arm(S8+)_resize_Edited_By_exp-27_model-15(Avg).jpg'></td><td>iPad Mini 4<img src='./example_image/Arm(iPad)_resize.jpg'></td></tr></table>"
      ],
      "text/plain": [
       "<IPython.core.display.HTML object>"
      ]
     },
     "metadata": {},
     "output_type": "display_data"
    }
   ],
   "source": [
    "from IPython.display import HTML, display\n",
    "feature_img = \"./example_image/Arm(S8+)_resize.jpg\"\n",
    "label_img = \"./example_image/Arm(iPad)_resize.jpg\"\n",
    "nan_img = \"./example_image/iPad_s8_augmented_img/Arm(S8+)_resize_Nannnnn.jpg\"\n",
    "my_own_img = \"./example_image/iPad_s8_augmented_img/Arm(S8+)_resize_Edited_By_exp-27_model-15(Avg).jpg\"\n",
    "\n",
    "display(HTML(\"<table><tr><td>Galaxy S8+<img src='\"+ feature_img +\"'></td><td>P' Nan<img src='\"+ nan_img +\"'></td><td>iPad Mini 4<img src='\"+ label_img +\"'></td></tr></table>\"))\n",
    "display(HTML(\"<table><tr><td>Galaxy S8+<img src='\"+ feature_img +\"'></td><td>Mine<img src='\"+ my_own_img +\"'></td><td>iPad Mini 4<img src='\"+ label_img +\"'></td></tr></table>\"))"
   ]
  },
  {
   "cell_type": "code",
   "execution_count": 60,
   "metadata": {},
   "outputs": [
    {
     "data": {
      "text/html": [
       "<table><tr><td>Galaxy S8+<img src='./example_image/TheTwo(S8+)_resize.jpg'></td><td>P' Nan<img src='./example_image/iPad_s8_augmented_img/TheTwo(S8+)_resize_Nannnnn.jpg'></td><td>iPad Mini 4<img src='./example_image/TheTwo(iPad)_resize.jpg'></td></tr></table>"
      ],
      "text/plain": [
       "<IPython.core.display.HTML object>"
      ]
     },
     "metadata": {},
     "output_type": "display_data"
    },
    {
     "data": {
      "text/html": [
       "<table><tr><td>Galaxy S8+<img src='./example_image/TheTwo(S8+)_resize.jpg'></td><td>Mine<img src='./example_image/iPad_s8_augmented_img/TheTwo(S8+)_resize_Edited_By_exp-27_model-15(Avg).jpg'></td><td>iPad Mini 4<img src='./example_image/TheTwo(iPad)_resize.jpg'></td></tr></table>"
      ],
      "text/plain": [
       "<IPython.core.display.HTML object>"
      ]
     },
     "metadata": {},
     "output_type": "display_data"
    }
   ],
   "source": [
    "feature_img = \"./example_image/TheTwo(S8+)_resize.jpg\"\n",
    "label_img = \"./example_image/TheTwo(iPad)_resize.jpg\"\n",
    "nan_img = \"./example_image/iPad_s8_augmented_img/TheTwo(S8+)_resize_Nannnnn.jpg\"\n",
    "my_own_img = \"./example_image/iPad_s8_augmented_img/TheTwo(S8+)_resize_Edited_By_exp-27_model-15(Avg).jpg\"\n",
    "\n",
    "display(HTML(\"<table><tr><td>Galaxy S8+<img src='\"+ feature_img +\"'></td><td>P' Nan<img src='\"+ nan_img +\"'></td><td>iPad Mini 4<img src='\"+ label_img +\"'></td></tr></table>\"))\n",
    "display(HTML(\"<table><tr><td>Galaxy S8+<img src='\"+ feature_img +\"'></td><td>Mine<img src='\"+ my_own_img +\"'></td><td>iPad Mini 4<img src='\"+ label_img +\"'></td></tr></table>\"))"
   ]
  },
  {
   "cell_type": "code",
   "execution_count": null,
   "metadata": {
    "collapsed": true
   },
   "outputs": [],
   "source": []
  }
 ],
 "metadata": {
  "kernelspec": {
   "display_name": "Python 3",
   "language": "python",
   "name": "python3"
  },
  "language_info": {
   "codemirror_mode": {
    "name": "ipython",
    "version": 3
   },
   "file_extension": ".py",
   "mimetype": "text/x-python",
   "name": "python",
   "nbconvert_exporter": "python",
   "pygments_lexer": "ipython3",
   "version": "3.6.3"
  }
 },
 "nbformat": 4,
 "nbformat_minor": 2
}
